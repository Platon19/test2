{
 "cells": [
  {
   "cell_type": "code",
   "execution_count": 1,
   "metadata": {},
   "outputs": [],
   "source": [
    "import pandas as pd"
   ]
  },
  {
   "cell_type": "code",
   "execution_count": 2,
   "metadata": {},
   "outputs": [],
   "source": [
    "import plotly "
   ]
  },
  {
   "cell_type": "code",
   "execution_count": 3,
   "metadata": {},
   "outputs": [],
   "source": [
    "import numpy\n",
    "import matplotlib\n",
    "import seaborn"
   ]
  },
  {
   "attachments": {},
   "cell_type": "markdown",
   "metadata": {},
   "source": [
    "***Жирный курсив***\n",
    "\n",
    "**Жир**\n",
    "\n",
    "*курсив*\n",
    "\n",
    "-мужество\n",
    "\n",
    "-воля\n",
    "\n",
    "-труд\n",
    "\n",
    "-и упорство\n",
    "\n",
    "$y_{1,2}=\\sin(x)$\n",
    "\n",
    "$\\mathrm{delta}(x)$\n",
    "\n",
    "$\\vec{w}$\n",
    "\n",
    "$e=\\lim\\limits_{x\\rightarrow\\infty}\\left(1+\\frac{1}{x}\\right)^{x}$"
   ]
  },
  {
   "cell_type": "code",
   "execution_count": 4,
   "metadata": {},
   "outputs": [],
   "source": [
    "import pandas\n"
   ]
  },
  {
   "cell_type": "code",
   "execution_count": 5,
   "metadata": {},
   "outputs": [],
   "source": [
    "text=\"Beautiful is better than ugly. \\\n",
    "Explicit is better than implicit. \\\n",
    "Simple is better than complex. \\\n",
    "Complex is better than complicated. \\\n",
    "Flat is better than nested. \\\n",
    "Sparse is better than dense. \\\n",
    "Readability counts. \\\n",
    "Special cases aren't special enough to break the rules. \\\n",
    "Although practicality beats purity. \\\n",
    "Errors should never pass silently. \\\n",
    "Unless explicitly silenced. \\\n",
    "In the face of ambiguity, refuse the temptation to guess. \\\n",
    "There should be one-- and preferably only one --obvious way to do it. \\\n",
    "Although that way may not be obvious at first unless you're Dutch. \\\n",
    "Now is better than never. \\\n",
    "Although never is often better than *right* now. \\\n",
    "If the implementation is hard to explain, it's a bad idea. \\\n",
    "If the implementation is easy to explain, it may be a good idea. \\\n",
    "Namespaces are one honking great idea -- let's do more of those!\""
   ]
  },
  {
   "cell_type": "code",
   "execution_count": 6,
   "metadata": {},
   "outputs": [
    {
     "name": "stdout",
     "output_type": "stream",
     "text": [
      "19\n"
     ]
    }
   ],
   "source": [
    "b=text.split('. ')\n",
    "print(len(b))"
   ]
  },
  {
   "cell_type": "code",
   "execution_count": 7,
   "metadata": {},
   "outputs": [
    {
     "name": "stdout",
     "output_type": "stream",
     "text": [
      "5\n",
      "5\n",
      "5\n",
      "5\n",
      "5\n",
      "5\n",
      "2\n",
      "9\n",
      "4\n",
      "5\n",
      "3\n",
      "10\n",
      "13\n",
      "12\n",
      "5\n",
      "8\n",
      "11\n",
      "13\n",
      "11\n"
     ]
    }
   ],
   "source": [
    "\n",
    "for x in b:\n",
    "    x=x.split('--')\n",
    "    j=0\n",
    "    for c in x:\n",
    "        c=c.strip()\n",
    "        c=c.split(' ')\n",
    "        j=j+len(c)\n",
    "    print(j)"
   ]
  },
  {
   "cell_type": "code",
   "execution_count": 8,
   "metadata": {},
   "outputs": [
    {
     "data": {
      "text/plain": [
       "[\"Namespaces are one honking great idea -- let's do more of those!\",\n",
       " 'If the implementation is easy to explain, it may be a good idea',\n",
       " \"If the implementation is hard to explain, it's a bad idea\",\n",
       " 'Although never is often better than *right* now',\n",
       " 'Now is better than never',\n",
       " \"Although that way may not be obvious at first unless you're Dutch\",\n",
       " 'There should be one-- and preferably only one --obvious way to do it',\n",
       " 'In the face of ambiguity, refuse the temptation to guess',\n",
       " 'Unless explicitly silenced',\n",
       " 'Errors should never pass silently',\n",
       " 'Although practicality beats purity',\n",
       " \"Special cases aren't special enough to break the rules\",\n",
       " 'Readability counts',\n",
       " 'Sparse is better than dense',\n",
       " 'Flat is better than nested',\n",
       " 'Complex is better than complicated',\n",
       " 'Simple is better than complex',\n",
       " 'Explicit is better than implicit',\n",
       " 'Beautiful is better than ugly']"
      ]
     },
     "execution_count": 8,
     "metadata": {},
     "output_type": "execute_result"
    }
   ],
   "source": [
    "b[::-1]"
   ]
  },
  {
   "cell_type": "code",
   "execution_count": 9,
   "metadata": {},
   "outputs": [
    {
     "name": "stdout",
     "output_type": "stream",
     "text": [
      "Beautiful luchshe ugly.\n",
      "Explicit luchshe implicit.\n",
      "Simple luchshe complex.\n",
      "Complex luchshe complicated.\n",
      "Flat luchshe nested.\n",
      "Sparse luchshe dense.\n",
      "Readability counts.\n",
      "Special cases aren't special enough to break the rules.\n",
      "Although practicality beats purity.\n",
      "Errors should never pass silently.\n",
      "Unless explicitly silenced.\n",
      "In the face of ambiguity, refuse the temptation to guess.\n",
      "There should be one-- and preferably only one --obvious way to do it.\n",
      "Although that way may not be obvious at first unless you're Dutch.\n",
      "Now luchshe never.\n",
      "Although never is often better than *right* now.\n",
      "If the implementation is hard to explain, it's a bad idea.\n",
      "If the implementation is easy to explain, it may be a good idea.\n",
      "Namespaces are one honking great idea -- let's do more of those!.\n"
     ]
    }
   ],
   "source": [
    "text1=text.replace('is better than','luchshe')\n",
    "b1=text1.split('. ')\n",
    "for i in range(len(b)):\n",
    "    print(b1[i]+'.')"
   ]
  },
  {
   "cell_type": "code",
   "execution_count": 11,
   "metadata": {},
   "outputs": [
    {
     "data": {
      "text/plain": [
       "652"
      ]
     },
     "execution_count": 11,
     "metadata": {},
     "output_type": "execute_result"
    }
   ],
   "source": [
    "k=0\n",
    "for i in range(len(text)):\n",
    "    if ((text[i]!=' ')&(text[i]!='.')&(text[i]!=',')&(text[i]!='-')&(text[i]!=\"'\")&(text[i]!='*')&(text[i]!='!')):\n",
    "        k=k+1\n",
    "k"
   ]
  }
 ],
 "metadata": {
  "kernelspec": {
   "display_name": "Python 3",
   "language": "python",
   "name": "python3"
  },
  "language_info": {
   "codemirror_mode": {
    "name": "ipython",
    "version": 3
   },
   "file_extension": ".py",
   "mimetype": "text/x-python",
   "name": "python",
   "nbconvert_exporter": "python",
   "pygments_lexer": "ipython3",
   "version": "3.10.9"
  },
  "orig_nbformat": 4
 },
 "nbformat": 4,
 "nbformat_minor": 2
}
