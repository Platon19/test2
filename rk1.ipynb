{
 "cells": [
  {
   "cell_type": "code",
   "execution_count": 1,
   "metadata": {},
   "outputs": [
    {
     "name": "stdout",
     "output_type": "stream",
     "text": [
      " 1) Добавить элемент в конец списка\n",
      " 2) Добавить элемент в начало списка\n",
      " 3) Добавить элемент в список по индексу\n",
      " 4) Найти среднее арифметическое\n",
      " 5) Найти среднее геометрическое\n",
      " 6) найти среднее гармоническое\n",
      " 7) Вывести минимальный эелемнет\n",
      " 8) Вывести максимальный элемент\n",
      " 9) Вывести количество введённого элемнета\n",
      "10) Вывести количество отрицательных элемнетов\n",
      "11) Удалить элемнет по значению\n",
      "12) Удалить все чётные элементы\n",
      "13) Удалить все нечётные элемнеты\n",
      "14) Удалить все элементы кратные k\n"
     ]
    }
   ],
   "source": [
    "print(' 1) Добавить элемент в конец списка\\n\\\n",
    " 2) Добавить элемент в начало списка\\n\\\n",
    " 3) Добавить элемент в список по индексу\\n\\\n",
    " 4) Найти среднее арифметическое\\n\\\n",
    " 5) Найти среднее геометрическое\\n\\\n",
    " 6) найти среднее гармоническое\\n\\\n",
    " 7) Вывести минимальный эелемнет\\n\\\n",
    " 8) Вывести максимальный элемент\\n\\\n",
    " 9) Вывести количество введённого элемнета\\n\\\n",
    "10) Вывести количество отрицательных элемнетов\\n\\\n",
    "11) Удалить элемнет по значению\\n\\\n",
    "12) Удалить все чётные элементы\\n\\\n",
    "13) Удалить все нечётные элемнеты\\n\\\n",
    "14) Удалить все элементы кратные k')"
   ]
  },
  {
   "cell_type": "code",
   "execution_count": 5,
   "metadata": {},
   "outputs": [],
   "source": [
    "list=[]\n",
    "\n"
   ]
  },
  {
   "cell_type": "code",
   "execution_count": 6,
   "metadata": {},
   "outputs": [],
   "source": [
    "def sr_arifm(list):\n",
    "    s=0\n",
    "    for i in list:\n",
    "        s+=i\n",
    "    return s/len(list)\n",
    "\n",
    "def sr_geom(list):\n",
    "    p=1\n",
    "    for i in list:\n",
    "        p=p*i\n",
    "    return p**(1/len(list))\n",
    "def sr_garm(list):\n",
    "    s=0\n",
    "    for i in list:\n",
    "        if i==0:\n",
    "            print('есть элементы равные 0')\n",
    "            break\n",
    "        else:\n",
    "            s+=1/i   \n",
    "    else:\n",
    "        print(len(list)/s)\n",
    "def rewrite(list):\n",
    "    b=[]\n",
    "    for i in list:\n",
    "        b.append(i)\n",
    "    return b\n",
    "def quantity_negativ(list):\n",
    "    k=0\n",
    "    for i in list:\n",
    "        if i<0:\n",
    "            k+=1\n",
    "    print(k)"
   ]
  },
  {
   "cell_type": "code",
   "execution_count": 51,
   "metadata": {},
   "outputs": [],
   "source": [
    "while True:\n",
    "    n=int(input('Введите пункт меню: \\n\\\n",
    " 1) Добавить элемент в конец списка\\n\\\n",
    " 2) Добавить элемент в начало списка\\n\\\n",
    " 3) Добавить элемент в список по индексу\\n\\\n",
    " 4) Найти среднее арифметическое\\n\\\n",
    " 5) Найти среднее геометрическое\\n\\\n",
    " 6) найти среднее гармоническое\\n\\\n",
    " 7) Вывести минимальный эелемнет\\n\\\n",
    " 8) Вывести максимальный элемент\\n\\\n",
    " 9) Вывести количество введённого элемнета\\n\\\n",
    "10) Вывести количество отрицательных элемнетов\\n\\\n",
    "11) Удалить элемнет по значению\\n\\\n",
    "12) Удалить все чётные элементы\\n\\\n",
    "13) Удалить все нечётные элемнеты\\n\\\n",
    "14) Удалить все элементы кратные k'))\n",
    "    if n==0:\n",
    "        break\n",
    "    if n==1:\n",
    "        list.append(int(input('введите элемнет который хотите добавить в конец: ')))\n",
    "    if n==2:\n",
    "        list.insert(0, int(input('введите элемнет который нужно добавить в начало: ')))\n",
    "    if n==3:\n",
    "        index=int(input('введите индекс: '))\n",
    "        if index<=len(list):\n",
    "            list.insert(index, int(input('введите элемнет: ')))\n",
    "        else:\n",
    "            print('введён неверный индекс!')\n",
    "    if n==4:\n",
    "        print(sr_arifm(list))\n",
    "    if n==5:\n",
    "        print(sr_geom(list))\n",
    "    if n==6:\n",
    "        sr_garm(list)\n",
    "    if n==7:\n",
    "        buf=rewrite(list)\n",
    "        buf.sort()\n",
    "        print(buf[0])\n",
    "    if n==8:\n",
    "        buf=rewrite(list)\n",
    "        buf.sort()\n",
    "        print(buf[len(buf)-1])\n",
    "    if n==9:\n",
    "        print(list.count(int(input('введит элемнет'))))\n",
    "    if n==10:\n",
    "         quantity_negativ(list) \n",
    "    if n==11:\n",
    "       m=int(input('введите элемент который нужно удалить'))\n",
    "       list=[i for i in list if i!=m]\n",
    "    if n==12:\n",
    "        list=[i for i in list if i%2==1]\n",
    "    if n==13:\n",
    "        list=[i for i in list if i%2==0]\n",
    "    if n==14:\n",
    "        k=int(input('введите k'))\n",
    "        list=[i for i in list if i%k!=0]\n",
    "    if n>14 or n<0:\n",
    "        print('нет такого пункта меню!')"
   ]
  },
  {
   "cell_type": "code",
   "execution_count": 52,
   "metadata": {},
   "outputs": [
    {
     "data": {
      "text/plain": [
       "[]"
      ]
     },
     "execution_count": 52,
     "metadata": {},
     "output_type": "execute_result"
    }
   ],
   "source": [
    "list"
   ]
  },
  {
   "cell_type": "code",
   "execution_count": 42,
   "metadata": {},
   "outputs": [
    {
     "data": {
      "text/plain": [
       "5"
      ]
     },
     "execution_count": 42,
     "metadata": {},
     "output_type": "execute_result"
    }
   ],
   "source": [
    "len(list)"
   ]
  },
  {
   "cell_type": "code",
   "execution_count": null,
   "metadata": {},
   "outputs": [],
   "source": []
  },
  {
   "cell_type": "code",
   "execution_count": null,
   "metadata": {},
   "outputs": [],
   "source": []
  },
  {
   "cell_type": "code",
   "execution_count": null,
   "metadata": {},
   "outputs": [],
   "source": []
  },
  {
   "cell_type": "code",
   "execution_count": null,
   "metadata": {},
   "outputs": [],
   "source": []
  },
  {
   "cell_type": "code",
   "execution_count": null,
   "metadata": {},
   "outputs": [],
   "source": []
  },
  {
   "cell_type": "code",
   "execution_count": null,
   "metadata": {},
   "outputs": [],
   "source": []
  },
  {
   "cell_type": "code",
   "execution_count": null,
   "metadata": {},
   "outputs": [],
   "source": []
  },
  {
   "cell_type": "code",
   "execution_count": null,
   "metadata": {},
   "outputs": [],
   "source": []
  },
  {
   "cell_type": "code",
   "execution_count": null,
   "metadata": {},
   "outputs": [],
   "source": []
  },
  {
   "cell_type": "code",
   "execution_count": null,
   "metadata": {},
   "outputs": [],
   "source": []
  },
  {
   "cell_type": "code",
   "execution_count": null,
   "metadata": {},
   "outputs": [],
   "source": []
  },
  {
   "cell_type": "code",
   "execution_count": null,
   "metadata": {},
   "outputs": [],
   "source": []
  },
  {
   "cell_type": "code",
   "execution_count": null,
   "metadata": {},
   "outputs": [],
   "source": []
  },
  {
   "cell_type": "code",
   "execution_count": null,
   "metadata": {},
   "outputs": [],
   "source": []
  }
 ],
 "metadata": {
  "kernelspec": {
   "display_name": "base",
   "language": "python",
   "name": "python3"
  },
  "language_info": {
   "codemirror_mode": {
    "name": "ipython",
    "version": 3
   },
   "file_extension": ".py",
   "mimetype": "text/x-python",
   "name": "python",
   "nbconvert_exporter": "python",
   "pygments_lexer": "ipython3",
   "version": "3.10.9"
  },
  "orig_nbformat": 4
 },
 "nbformat": 4,
 "nbformat_minor": 2
}
