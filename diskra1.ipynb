{
 "cells": [
  {
   "cell_type": "code",
   "execution_count": 1,
   "metadata": {},
   "outputs": [],
   "source": [
    "def f(n):\n",
    "    a=[]\n",
    "    a.append(3)\n",
    "    a.append(4)\n",
    "    a.append(21)\n",
    "    a.append(50)\n",
    "    for i in range(4, n+1):\n",
    "        a.append(2*a[i-1]+7*a[i-2]-20*a[i-3]+12*a[i-4])\n",
    "    return a[n]\n",
    "\n",
    "    "
   ]
  },
  {
   "cell_type": "code",
   "execution_count": 2,
   "metadata": {},
   "outputs": [],
   "source": [
    "import numpy as np"
   ]
  },
  {
   "cell_type": "code",
   "execution_count": 3,
   "metadata": {},
   "outputs": [
    {
     "data": {
      "text/plain": [
       "384"
      ]
     },
     "execution_count": 3,
     "metadata": {},
     "output_type": "execute_result"
    }
   ],
   "source": [
    "f(5)\n"
   ]
  },
  {
   "cell_type": "code",
   "execution_count": 4,
   "metadata": {},
   "outputs": [],
   "source": [
    "def coefficients():\n",
    "    A = np.array([[1, 1, 0, 1], [1, 2, 2, -3], [1, 4, 8, 9], [1, 8, 24, -27]])\n",
    "    B = np.array([3, 4, 21, 50])\n",
    "    X = np.linalg.solve(A,B) \n",
    "    return X\n"
   ]
  },
  {
   "cell_type": "code",
   "execution_count": 5,
   "metadata": {},
   "outputs": [
    {
     "name": "stdout",
     "output_type": "stream",
     "text": [
      "[ 8.25 -5.6   4.    0.35]\n"
     ]
    }
   ],
   "source": [
    "a=coefficients()\n",
    "print(a)"
   ]
  },
  {
   "cell_type": "code",
   "execution_count": 6,
   "metadata": {},
   "outputs": [
    {
     "data": {
      "text/plain": [
       "0.0"
      ]
     },
     "execution_count": 6,
     "metadata": {},
     "output_type": "execute_result"
    }
   ],
   "source": [
    "n=280\n",
    "x=8.25+(-5.6)*2**n+4*n*2**n+0.35*(-3)**n-f(n)\n",
    "x"
   ]
  },
  {
   "cell_type": "code",
   "execution_count": 7,
   "metadata": {},
   "outputs": [],
   "source": [
    "def f(n):\n",
    "    a=[]\n",
    "    a.append(2)\n",
    "    a.append(3)\n",
    "    a.append(5)\n",
    "    for i in range(3, n+1):\n",
    "        a.append(2*a[i-2]+a[i-3])\n",
    "    return a"
   ]
  },
  {
   "cell_type": "code",
   "execution_count": 8,
   "metadata": {},
   "outputs": [
    {
     "data": {
      "text/plain": [
       "[2, 3, 5, 8, 13, 21, 34, 55, 89, 144, 233, 377, 610, 987, 1597, 2584]"
      ]
     },
     "execution_count": 8,
     "metadata": {},
     "output_type": "execute_result"
    }
   ],
   "source": [
    "f(15)"
   ]
  },
  {
   "cell_type": "code",
   "execution_count": 9,
   "metadata": {},
   "outputs": [],
   "source": [
    "def uslovie(a):\n",
    "    for i in range(len(a)):\n",
    "        if a[i]==a[i+1] and a[i]==0:\n",
    "            return False\n",
    "    return True"
   ]
  },
  {
   "cell_type": "code",
   "execution_count": 10,
   "metadata": {},
   "outputs": [],
   "source": [
    "def kolvo(n):\n",
    "    a=[]\n",
    "    r=int(2**n-1)\n",
    "    for i in range(n):\n",
    "        b=[]\n",
    "        for j in range(n):\n",
    "            b.append(r%2)\n",
    "            r//2\n",
    "\n",
    "\n"
   ]
  },
  {
   "cell_type": "markdown",
   "metadata": {},
   "source": [
    "бред сумасшедшего\n"
   ]
  },
  {
   "cell_type": "code",
   "execution_count": null,
   "metadata": {},
   "outputs": [],
   "source": [
    "\n",
    "def Turn_Matr(Matr,N,M):\n",
    "    Matr_Rev = Matr[::-1]\n",
    "    Rot_Matr = [[Matr_Rev[j][i] for j in range(N)] for i in range(M)]\n",
    "    return Rot_Matr"
   ]
  },
  {
   "cell_type": "code",
   "execution_count": null,
   "metadata": {},
   "outputs": [],
   "source": [
    "x = x%4\n",
    "            y = y%4\n",
    "            while x <= 0:\n",
    "                x += 4\n",
    "            while y <= 0:\n",
    "                y += 4\n",
    "            if x == y:\n",
    "                continue\n",
    "            else:\n",
    "                count_x = 0\n",
    "                while x!=1:\n",
    "                    x -= 1\n",
    "                    y -= 1\n",
    "                    count_x += 1\n",
    "                    for _ in range(3):\n",
    "                        MM = Turn_Matr(matr, N, M)\n",
    "                        N,M = M,N\n",
    "                        matr =  [[0]*M for _ in range(N)]\n",
    "                        for i in range(N):\n",
    "                            for j in range(M):\n",
    "                                matr[i][j] = MM[i][j]    \n",
    "                while y <= 0:\n",
    "                    y += 4\n",
    "                Y_Mat = [[0]*M for _ in range(N)]\n",
    "                for i in range(N):\n",
    "                    for j in range(M):\n",
    "                        Y_Mat[i][j] = matr[i][j]\n",
    "                count_y = 0\n",
    "                while y != 1:\n",
    "                    y -= 1\n",
    "                    count_y += 1 \n",
    "                    for _ in range(3):\n",
    "                        MM = Turn_Matr(Y_Mat, N, M)\n",
    "                        N,M = M,N\n",
    "                        Y_Mat =  [[0]*M for _ in range(N)]\n",
    "                        for i in range(N):\n",
    "                            for j in range(M):\n",
    "                                Y_Mat[i][j] = MM[i][j] \n",
    "                k = min(N,M)\n",
    "                for i in range(0,k//2):\n",
    "                    for j in range(i+1,k-i-1):\n",
    "                        matr[i][j], Y_Mat[i][j] = Y_Mat[i][j], matr[i][j]\n",
    "                N = len(matr)\n",
    "                M =len(matr[0])\n",
    "                for _ in range(count_y):\n",
    "                    count_x += 1\n",
    "                    for p in range(3):\n",
    "                        MM = Turn_Matr(matr, N, M)\n",
    "                        N,M = M,N\n",
    "                        matr =  [[0]*M for _ in range(N)]\n",
    "                        for i in range(N):\n",
    "                            for j in range(M):\n",
    "                                matr[i][j] = MM[i][j]\n",
    "                for i in range(0,k//2):\n",
    "                    for j in range(i+1,k-i-1):\n",
    "                        matr[i][j], Y_Mat[i][j] = Y_Mat[i][j], matr[i][j]\n",
    "                for _ in range(count_x):\n",
    "                    MM = Turn_Matr(matr, N, M)\n",
    "                    N,M = M,N\n",
    "                    matr =  [[0]*M for _ in range(N)]\n",
    "                    for i in range(N):\n",
    "                        for j in range(M):\n",
    "                            matr[i][j] = MM[i][j]\n"
   ]
  },
  {
   "cell_type": "code",
   "execution_count": 2,
   "metadata": {},
   "outputs": [],
   "source": [
    "def proizv(a, b, n):\n",
    "    c=[]\n",
    "    for i in range(n):\n",
    "        c.append([0]*n)\n",
    "    for i in range(n):\n",
    "        for j in range(n):\n",
    "            for k in range(n):\n",
    "                if a[i][k]*b[k][j]>=c[i][j]:\n",
    "                    c[i][j]=a[i][k]*b[k][j]\n",
    "    return c"
   ]
  },
  {
   "cell_type": "code",
   "execution_count": 3,
   "metadata": {},
   "outputs": [],
   "source": [
    "def print_Matr(Matr, N, M):\n",
    "    for i in range(N):\n",
    "        for j in range(M):\n",
    "            print(\"%3s\" % Matr[i][j], end=' ')\n",
    "        print()"
   ]
  },
  {
   "cell_type": "code",
   "execution_count": 5,
   "metadata": {},
   "outputs": [
    {
     "name": "stdout",
     "output_type": "stream",
     "text": [
      "  1   2 \n",
      "  3   4 \n",
      "квадрат матрицы:\n",
      "  6   8 \n",
      " 12  16 \n"
     ]
    }
   ],
   "source": [
    "N=int(input('введите размерность матрицы'))\n",
    "a=[]\n",
    "for i in range(N):\n",
    "    a.append(list(map(int, input('введите элементы строки').split()))[:N])\n",
    "print_Matr(a, N, N)\n",
    "print('квадрат матрицы:')\n",
    "print_Matr(proizv(a,a,N), N, N)\n",
    "\n"
   ]
  },
  {
   "cell_type": "code",
   "execution_count": 12,
   "metadata": {},
   "outputs": [
    {
     "name": "stdout",
     "output_type": "stream",
     "text": [
      "  1   1   1   1   1 \n",
      "  1   1   1   1   1 \n",
      "  1   1   1   1   1 \n",
      "  1   1   1   1   1 \n",
      "  1   1   1   1   1 \n"
     ]
    }
   ],
   "source": [
    "A=[[0,1,0,1,0],[1,0,1,0,0],[0,1,0,1,1],[1,0,1,0,0],[0,0,1,0,0]]\n",
    "for i in range(5):\n",
    "    A[i][i]=A[i][i]+1\n",
    "B=A.copy()\n",
    "\n",
    "for i in range(4):\n",
    "    B=proizv(B,A,5).copy()\n",
    "print_Matr(B,5,5)\n"
   ]
  },
  {
   "cell_type": "code",
   "execution_count": 13,
   "metadata": {},
   "outputs": [
    {
     "name": "stdout",
     "output_type": "stream",
     "text": [
      "  0   1   2   1   3 \n",
      "  1   0   1   2   2 \n",
      "  2   1   0   1   1 \n",
      "  1   2   1   0   2 \n",
      "  3   2   1   2   0 \n"
     ]
    }
   ],
   "source": [
    "A=[[0,1,0,1,0],[1,0,1,0,0],[0,1,0,1,1],[1,0,1,0,0],[0,0,1,0,0]]\n",
    "for i in range(5):\n",
    "    A[i][i]=A[i][i]+1\n",
    "B=A.copy()\n",
    "C=[[1,1,1,1,1],[1,1,1,1,1],[1,1,1,1,1],[1,1,1,1,1],[1,1,1,1,1]]\n",
    "buf=A.copy()\n",
    "B=proizv(B,A,5).copy()\n",
    "for l in range(4):\n",
    "    for i in range(5):\n",
    "         for j in range(5):\n",
    "            if buf[i][j]==0 and B[i][j]==1:\n",
    "                C[i][j]=l+2\n",
    "    B=proizv(B,A,5).copy()\n",
    "    buf=proizv(buf,A,5).copy()\n",
    "for i in range(5):\n",
    "    C[i][i]=0\n",
    "print_Matr(C,5,5)"
   ]
  },
  {
   "cell_type": "code",
   "execution_count": 14,
   "metadata": {},
   "outputs": [
    {
     "name": "stdout",
     "output_type": "stream",
     "text": [
      "  1   1   0   0   0 \n",
      "  0   1   0   0   0 \n",
      "  1   1   1   1   1 \n",
      "  0   1   0   1   0 \n",
      "  1   1   1   1   1 \n"
     ]
    }
   ],
   "source": [
    "A=[[0,1,0,0,0],[0,0,0,0,0],[1,0,0,1,1],[0,1,0,0,0],[0,0,1,1,0]]\n",
    "for i in range(5):\n",
    "    A[i][i]=A[i][i]+1\n",
    "B=A.copy()\n",
    "for i in range(4):\n",
    "    B=proizv(B,A,5).copy()\n",
    "print_Matr(B,5,5)\n"
   ]
  },
  {
   "cell_type": "code",
   "execution_count": 10,
   "metadata": {},
   "outputs": [
    {
     "name": "stdout",
     "output_type": "stream",
     "text": [
      "  0   1   0   0   0 \n",
      "  0   0   0   0   0 \n",
      "  1   2   0   1   1 \n",
      "  0   1   0   0   0 \n",
      "  2   2   1   1   0 \n"
     ]
    }
   ],
   "source": [
    "A=[[0,1,0,0,0],[0,0,0,0,0],[1,0,0,1,1],[0,1,0,0,0],[0,0,1,1,0]]\n",
    "for i in range(5):\n",
    "    A[i][i]=A[i][i]+1\n",
    "C=B.copy()\n",
    "B=A.copy()\n",
    "buf=A.copy()\n",
    "B=proizv(B,A,5).copy()\n",
    "for l in range(4):\n",
    "    for i in range(5):\n",
    "         for j in range(5):\n",
    "            if buf[i][j]==0 and B[i][j]==1:\n",
    "                C[i][j]=l+2\n",
    "    B=proizv(B,A,5).copy()\n",
    "    buf=proizv(buf,A,5).copy()\n",
    "for i in range(5):\n",
    "    C[i][i]=0\n",
    "print_Matr(C,5,5)"
   ]
  },
  {
   "cell_type": "code",
   "execution_count": 51,
   "metadata": {},
   "outputs": [],
   "source": [
    "def proizv_multi(a, b, n):\n",
    "    c=[]\n",
    "    for i in range(n):\n",
    "        c.append([10000]*n)\n",
    "    for i in range(n):\n",
    "        for j in range(n):\n",
    "            for k in range(n):\n",
    "                if a[i][k]+b[k][j]<=c[i][j]:\n",
    "                    c[i][j]=a[i][k]+b[k][j]\n",
    "    return c "
   ]
  },
  {
   "cell_type": "code",
   "execution_count": 64,
   "metadata": {},
   "outputs": [
    {
     "name": "stdout",
     "output_type": "stream",
     "text": [
      "  0   1   2   3   4   3 \n",
      "  1   0   3   4   5   3 \n",
      "  2   3   0   2   2   1 \n",
      "  3   4   2   0   1   1 \n",
      "  4   5   2   1   0   2 \n",
      "  3   3   1   1   2   0 \n"
     ]
    }
   ],
   "source": [
    "A=[[0,1,2,3,0,0],[1,0,0,0,0,3],[2,0,0,4,2,1],[3,0,4,0,1,1],[0,0,2,1,0,2],[0,3,1,1,2,0]]\n",
    "for i in range(6):\n",
    "    for j in range(6):\n",
    "        if i!=j and A[i][j]==0:\n",
    "            A[i][j]=10000\n",
    "B=A.copy()\n",
    "for i in range(5):\n",
    "    B=proizv_multi(A,B,6)\n",
    "print_Matr(B,6,6)"
   ]
  },
  {
   "cell_type": "code",
   "execution_count": 65,
   "metadata": {},
   "outputs": [
    {
     "name": "stdout",
     "output_type": "stream",
     "text": [
      "  1   1   0   0   1   0   0   0 \n",
      "  1   1   1   0   0   0   0   1 \n",
      "  0   1   1   1   0   0   1   0 \n",
      "  0   0   1   1   1   0   0   0 \n",
      "  1   0   0   1   1   0   0   0 \n",
      "  0   0   0   0   0   1   1   1 \n",
      "  0   0   1   0   0   1   1   1 \n",
      "  0   1   0   0   0   1   1   1 \n",
      "\n",
      "  1   1   1   1   1   0   0   1 \n",
      "  1   1   1   1   1   1   1   1 \n",
      "  1   1   1   1   1   1   1   1 \n",
      "  1   1   1   1   1   0   1   0 \n",
      "  1   1   1   1   1   0   0   0 \n",
      "  0   1   1   0   0   1   1   1 \n",
      "  0   1   1   1   0   1   1   1 \n",
      "  1   1   1   0   0   1   1   1 \n",
      "\n",
      "  1   1   1   1   1   1   1   1 \n",
      "  1   1   1   1   1   1   1   1 \n",
      "  1   1   1   1   1   1   1   1 \n",
      "  1   1   1   1   1   1   1   1 \n",
      "  1   1   1   1   1   0   1   1 \n",
      "  1   1   1   1   0   1   1   1 \n",
      "  1   1   1   1   1   1   1   1 \n",
      "  1   1   1   1   1   1   1   1 \n",
      "\n",
      "  1   1   1   1   1   1   1   1 \n",
      "  1   1   1   1   1   1   1   1 \n",
      "  1   1   1   1   1   1   1   1 \n",
      "  1   1   1   1   1   1   1   1 \n",
      "  1   1   1   1   1   1   1   1 \n",
      "  1   1   1   1   1   1   1   1 \n",
      "  1   1   1   1   1   1   1   1 \n",
      "  1   1   1   1   1   1   1   1 \n",
      "\n",
      "  1   1   1   1   1   1   1   1 \n",
      "  1   1   1   1   1   1   1   1 \n",
      "  1   1   1   1   1   1   1   1 \n",
      "  1   1   1   1   1   1   1   1 \n",
      "  1   1   1   1   1   1   1   1 \n",
      "  1   1   1   1   1   1   1   1 \n",
      "  1   1   1   1   1   1   1   1 \n",
      "  1   1   1   1   1   1   1   1 \n",
      "\n",
      "  1   1   1   1   1   1   1   1 \n",
      "  1   1   1   1   1   1   1   1 \n",
      "  1   1   1   1   1   1   1   1 \n",
      "  1   1   1   1   1   1   1   1 \n",
      "  1   1   1   1   1   1   1   1 \n",
      "  1   1   1   1   1   1   1   1 \n",
      "  1   1   1   1   1   1   1   1 \n",
      "  1   1   1   1   1   1   1   1 \n",
      "\n",
      "  1   1   1   1   1   1   1   1 \n",
      "  1   1   1   1   1   1   1   1 \n",
      "  1   1   1   1   1   1   1   1 \n",
      "  1   1   1   1   1   1   1   1 \n",
      "  1   1   1   1   1   1   1   1 \n",
      "  1   1   1   1   1   1   1   1 \n",
      "  1   1   1   1   1   1   1   1 \n",
      "  1   1   1   1   1   1   1   1 \n",
      "\n",
      "  1   1   1   1   1   1   1   1 \n",
      "  1   1   1   1   1   1   1   1 \n",
      "  1   1   1   1   1   1   1   1 \n",
      "  1   1   1   1   1   1   1   1 \n",
      "  1   1   1   1   1   1   1   1 \n",
      "  1   1   1   1   1   1   1   1 \n",
      "  1   1   1   1   1   1   1   1 \n",
      "  1   1   1   1   1   1   1   1 \n",
      "\n"
     ]
    }
   ],
   "source": [
    "A=[[0,1,0,0,1,0,0,0],\n",
    "   [1,0,1,0,0,0,0,1],\n",
    "   [0,1,0,1,0,0,1,0],\n",
    "   [0,0,1,0,1,0,0,0],\n",
    "   [1,0,0,1,0,0,0,0],\n",
    "   [0,0,0,0,0,0,1,1],\n",
    "   [0,0,1,0,0,1,0,1],\n",
    "   [0,1,0,0,0,1,1,0]]\n",
    "for i in range(8):\n",
    "    A[i][i]=A[i][i]+1\n",
    "B=A.copy()\n",
    "print_Matr(B,8,8)\n",
    "print()\n",
    "for i in range(7):\n",
    "    B=proizv(B,A,8).copy()\n",
    "    print_Matr(B,8,8)\n",
    "    print()\n"
   ]
  },
  {
   "cell_type": "code",
   "execution_count": 44,
   "metadata": {},
   "outputs": [
    {
     "name": "stdout",
     "output_type": "stream",
     "text": [
      "  0   1   2   2   1   3   3   2 \n",
      "  1   0   1   2   2   2   2   1 \n",
      "  2   1   0   1   2   2   1   2 \n",
      "  2   2   1   0   1   3   2   3 \n",
      "  1   2   2   1   0   4   3   3 \n",
      "  3   2   2   3   4   0   1   1 \n",
      "  3   2   1   2   3   1   0   1 \n",
      "  2   1   2   3   3   1   1   0 \n"
     ]
    }
   ],
   "source": [
    "C=B.copy()\n",
    "B=A.copy()\n",
    "buf=A.copy()\n",
    "B=proizv(B,A,8).copy()\n",
    "for l in range(7):\n",
    "    for i in range(8):\n",
    "         for j in range(8):\n",
    "            if buf[i][j]==0 and B[i][j]==1:\n",
    "                C[i][j]=l+2\n",
    "    B=proizv(B,A,8).copy()\n",
    "    buf=proizv(buf,A,8).copy()\n",
    "for i in range(8):\n",
    "    C[i][i]=0\n",
    "print_Matr(C,8,8)"
   ]
  },
  {
   "cell_type": "code",
   "execution_count": 42,
   "metadata": {},
   "outputs": [],
   "source": [
    "def radius(A,n):\n",
    "    max=[]\n",
    "    for i in range(n):\n",
    "        max.append(A[i][0])\n",
    "        for j in range(n):\n",
    "            if max[i]<A[i][j]:\n",
    "                max[i]=A[i][j]\n",
    "    radius=max[0]\n",
    "    diametr=max[0]\n",
    "    for i in range(n):\n",
    "        if radius>max[i]:\n",
    "            radius=max[i]\n",
    "        if diametr<max[i]:\n",
    "            diametr=max[i]\n",
    "    print('диаметр=',diametr, 'радиус=', radius)"
   ]
  },
  {
   "cell_type": "code",
   "execution_count": 45,
   "metadata": {},
   "outputs": [
    {
     "name": "stdout",
     "output_type": "stream",
     "text": [
      "диаметр= 4 радиус= 2\n"
     ]
    }
   ],
   "source": [
    "radius(C,8)"
   ]
  },
  {
   "cell_type": "code",
   "execution_count": 66,
   "metadata": {},
   "outputs": [
    {
     "name": "stdout",
     "output_type": "stream",
     "text": [
      "  1   1   1   1   1   1   1   1 \n",
      "  1   1   1   1   1   1   1   1 \n",
      "  1   1   1   1   1   1   1   1 \n",
      "  1   1   1   1   1   1   1   1 \n",
      "  1   1   1   1   1   1   1   1 \n",
      "  1   1   1   1   1   1   1   1 \n",
      "  1   1   1   1   1   1   1   1 \n",
      "  1   1   1   1   1   1   1   1 \n"
     ]
    }
   ],
   "source": [
    "A=[[0,1,0,0,1,0,0,1],\n",
    "   [1,0,1,0,0,0,0,0],\n",
    "   [0,1,0,1,0,0,1,0],\n",
    "   [0,0,1,0,1,0,0,0],\n",
    "   [1,0,0,1,0,0,0,0],\n",
    "   [0,0,0,0,0,0,1,1],\n",
    "   [0,0,1,0,0,1,0,1],\n",
    "   [1,0,0,0,0,1,1,0]]\n",
    "for i in range(8):\n",
    "    A[i][i]=A[i][i]+1\n",
    "B=A.copy()\n",
    "for i in range(7):\n",
    "    B=proizv(B,A,8).copy()\n",
    "print_Matr(B,8,8)\n"
   ]
  },
  {
   "cell_type": "code",
   "execution_count": 67,
   "metadata": {},
   "outputs": [
    {
     "name": "stdout",
     "output_type": "stream",
     "text": [
      "  0   1   2   2   1   2   2   1 \n",
      "  1   0   1   2   2   3   2   2 \n",
      "  2   1   0   1   2   2   1   2 \n",
      "  2   2   1   0   1   3   2   3 \n",
      "  1   2   2   1   0   3   3   2 \n",
      "  2   3   2   3   3   0   1   1 \n",
      "  2   2   1   2   3   1   0   1 \n",
      "  1   2   2   3   2   1   1   0 \n"
     ]
    }
   ],
   "source": [
    "C=B.copy()\n",
    "B=A.copy()\n",
    "buf=A.copy()\n",
    "B=proizv(B,A,8).copy()\n",
    "for l in range(7):\n",
    "    for i in range(8):\n",
    "         for j in range(8):\n",
    "            if buf[i][j]==0 and B[i][j]==1:\n",
    "                C[i][j]=l+2\n",
    "    B=proizv(B,A,8).copy()\n",
    "    buf=proizv(buf,A,8).copy()\n",
    "for i in range(8):\n",
    "    C[i][i]=0\n",
    "print_Matr(C,8,8)"
   ]
  },
  {
   "cell_type": "code",
   "execution_count": 68,
   "metadata": {},
   "outputs": [
    {
     "name": "stdout",
     "output_type": "stream",
     "text": [
      "диаметр= 3 радиус= 2\n"
     ]
    }
   ],
   "source": [
    "radius(C,8)"
   ]
  },
  {
   "cell_type": "code",
   "execution_count": null,
   "metadata": {},
   "outputs": [],
   "source": []
  },
  {
   "cell_type": "code",
   "execution_count": null,
   "metadata": {},
   "outputs": [],
   "source": []
  },
  {
   "cell_type": "code",
   "execution_count": null,
   "metadata": {},
   "outputs": [],
   "source": []
  },
  {
   "cell_type": "code",
   "execution_count": null,
   "metadata": {},
   "outputs": [],
   "source": []
  },
  {
   "cell_type": "code",
   "execution_count": null,
   "metadata": {},
   "outputs": [],
   "source": []
  }
 ],
 "metadata": {
  "kernelspec": {
   "display_name": "base",
   "language": "python",
   "name": "python3"
  },
  "language_info": {
   "codemirror_mode": {
    "name": "ipython",
    "version": 3
   },
   "file_extension": ".py",
   "mimetype": "text/x-python",
   "name": "python",
   "nbconvert_exporter": "python",
   "pygments_lexer": "ipython3",
   "version": "3.10.9"
  },
  "orig_nbformat": 4
 },
 "nbformat": 4,
 "nbformat_minor": 2
}
