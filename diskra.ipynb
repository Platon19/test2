{
 "cells": [
  {
   "cell_type": "code",
   "execution_count": null,
   "metadata": {},
   "outputs": [],
   "source": []
  },
  {
   "cell_type": "code",
   "execution_count": 4,
   "metadata": {},
   "outputs": [
    {
     "name": "stdout",
     "output_type": "stream",
     "text": [
      "74368\n"
     ]
    }
   ],
   "source": [
    "k=0\n",
    "for a1 in range(1,9):\n",
    "      for a2 in range(1,9):\n",
    "            for a3 in range(1,9):\n",
    "                  for a4 in range(1,9):\n",
    "                        for a5 in range(1,9):\n",
    "                              for a6 in range(1,9):\n",
    "                                    for a7 in range(1,9):\n",
    "                                          for a8 in range(1,9):\n",
    "                                                if (a1<a2<a3<a4)and(a4>a5>a6):\n",
    "                                                      k=k+1\n",
    "k\n"
   ]
  },
  {
   "cell_type": "code",
   "execution_count": 6,
   "metadata": {},
   "outputs": [
    {
     "data": {
      "text/plain": [
       "286720"
      ]
     },
     "execution_count": 6,
     "metadata": {},
     "output_type": "execute_result"
    }
   ],
   "source": [
    "k=0\n",
    "for a1 in range(1,9):\n",
    "      for a2 in range(1,9):\n",
    "            for a3 in range(1,9):\n",
    "                  for a4 in range(1,9):\n",
    "                        for a5 in range(1,9):\n",
    "                              for a6 in range(1,9):\n",
    "                                    for a7 in range(1,9):\n",
    "                                          for a8 in range(1,9):\n",
    "                                                if (a1<a2<a3<a4):\n",
    "                                                      k=k+1\n",
    "k"
   ]
  },
  {
   "cell_type": "code",
   "execution_count": null,
   "metadata": {},
   "outputs": [],
   "source": []
  },
  {
   "cell_type": "code",
   "execution_count": null,
   "metadata": {},
   "outputs": [],
   "source": []
  },
  {
   "cell_type": "code",
   "execution_count": null,
   "metadata": {},
   "outputs": [],
   "source": []
  },
  {
   "cell_type": "code",
   "execution_count": null,
   "metadata": {},
   "outputs": [],
   "source": []
  },
  {
   "cell_type": "code",
   "execution_count": null,
   "metadata": {},
   "outputs": [],
   "source": []
  },
  {
   "cell_type": "code",
   "execution_count": null,
   "metadata": {},
   "outputs": [],
   "source": []
  },
  {
   "cell_type": "code",
   "execution_count": null,
   "metadata": {},
   "outputs": [],
   "source": []
  }
 ],
 "metadata": {
  "kernelspec": {
   "display_name": "base",
   "language": "python",
   "name": "python3"
  },
  "language_info": {
   "codemirror_mode": {
    "name": "ipython",
    "version": 3
   },
   "file_extension": ".py",
   "mimetype": "text/x-python",
   "name": "python",
   "nbconvert_exporter": "python",
   "pygments_lexer": "ipython3",
   "version": "3.10.9"
  },
  "orig_nbformat": 4
 },
 "nbformat": 4,
 "nbformat_minor": 2
}
