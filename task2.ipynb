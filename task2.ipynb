{
 "cells": [
  {
   "cell_type": "code",
   "execution_count": 35,
   "metadata": {},
   "outputs": [],
   "source": [
    "import numpy as np\n",
    "import pandas as pd\n",
    "import scipy.special as sc"
   ]
  },
  {
   "cell_type": "code",
   "execution_count": 19,
   "metadata": {},
   "outputs": [],
   "source": [
    "def multiplication(n):\n",
    "    p=np.exp(1)\n",
    "    for i in range(n):\n",
    "        p*=(np.exp(1)-i-1)\n",
    "    return p"
   ]
  },
  {
   "cell_type": "code",
   "execution_count": 78,
   "metadata": {},
   "outputs": [],
   "source": [
    "def sum_beta(x):\n",
    "    coefficients = []\n",
    "    coefficient = 1/x\n",
    "    sum = 0\n",
    "    kahan_sum=0\n",
    "    c=0\n",
    "    n=0\n",
    "    while abs(coefficient)>=1e-8:\n",
    "        coefficients.append(coefficient)\n",
    "        coefficient*=-(np.exp(1)-n-1)*(x+n)/((1+n)*(x+n+1))\n",
    "        if n==100:\n",
    "            break\n",
    "        n+=1\n",
    "    for i in range(n):\n",
    "        sum+=coefficients[i]\n",
    "\n",
    "    for i in range(n):\n",
    "        y = coefficients[i] - c\n",
    "        t = kahan_sum + y\n",
    "        z = t - kahan_sum\n",
    "        c = z - y\n",
    "        kahan_sum = t\n",
    "    list = ['{:.15f}'.format(x),'{:.15f}'.format(n),'{:.15f}'.format(sum),'{:.15f}'.format(kahan_sum)]\n",
    "    return list"
   ]
  },
  {
   "cell_type": "code",
   "execution_count": 79,
   "metadata": {},
   "outputs": [
    {
     "name": "stdout",
     "output_type": "stream",
     "text": [
      "['1.000000000000000', '100.000000000000000', '0.367878908918837', '0.367878908918837']\n"
     ]
    }
   ],
   "source": [
    "print(sum_beta(1))"
   ]
  },
  {
   "cell_type": "code",
   "execution_count": 80,
   "metadata": {},
   "outputs": [
    {
     "data": {
      "text/plain": [
       "0.36787944117144233"
      ]
     },
     "execution_count": 80,
     "metadata": {},
     "output_type": "execute_result"
    }
   ],
   "source": [
    "sc.beta(1, np.exp(1))"
   ]
  },
  {
   "cell_type": "code",
   "execution_count": 86,
   "metadata": {},
   "outputs": [],
   "source": [
    "a = 1\n",
    "b = 2\n",
    "data = pd.DataFrame(columns=['x_i','n','sum1','sum2'])\n",
    "delta = 0.01\n",
    "\n",
    "t = a\n",
    "while t<=b:\n",
    "    data.loc[len(data)] = sum_beta(t)\n",
    "    t += delta\n",
    "\n",
    "data.to_csv('out.csv')"
   ]
  },
  {
   "cell_type": "code",
   "execution_count": null,
   "metadata": {},
   "outputs": [],
   "source": []
  },
  {
   "cell_type": "code",
   "execution_count": null,
   "metadata": {},
   "outputs": [],
   "source": []
  },
  {
   "cell_type": "code",
   "execution_count": null,
   "metadata": {},
   "outputs": [],
   "source": []
  },
  {
   "cell_type": "code",
   "execution_count": null,
   "metadata": {},
   "outputs": [],
   "source": []
  },
  {
   "cell_type": "code",
   "execution_count": null,
   "metadata": {},
   "outputs": [],
   "source": []
  },
  {
   "cell_type": "code",
   "execution_count": null,
   "metadata": {},
   "outputs": [],
   "source": []
  },
  {
   "cell_type": "code",
   "execution_count": null,
   "metadata": {},
   "outputs": [],
   "source": []
  },
  {
   "cell_type": "code",
   "execution_count": null,
   "metadata": {},
   "outputs": [],
   "source": []
  },
  {
   "cell_type": "code",
   "execution_count": null,
   "metadata": {},
   "outputs": [],
   "source": []
  }
 ],
 "metadata": {
  "kernelspec": {
   "display_name": "base",
   "language": "python",
   "name": "python3"
  },
  "language_info": {
   "codemirror_mode": {
    "name": "ipython",
    "version": 3
   },
   "file_extension": ".py",
   "mimetype": "text/x-python",
   "name": "python",
   "nbconvert_exporter": "python",
   "pygments_lexer": "ipython3",
   "version": "3.10.9"
  }
 },
 "nbformat": 4,
 "nbformat_minor": 2
}
