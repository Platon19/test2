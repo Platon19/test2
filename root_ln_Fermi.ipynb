{
 "cells": [
  {
   "cell_type": "code",
   "execution_count": 1,
   "metadata": {},
   "outputs": [],
   "source": [
    "import numpy as np\n",
    "import scipy.integrate as integrate\n",
    "import scipy.special as special\n",
    "import matplotlib.pyplot as plt\n",
    "import cmath"
   ]
  },
  {
   "cell_type": "code",
   "execution_count": 2,
   "metadata": {},
   "outputs": [],
   "source": [
    "def n_0(a):\n",
    "    return 2*integrate.quad(lambda x: np.exp(-x**2)/((np.exp(-x**2)+np.exp(-a))), 0, np.inf)[0]\n",
    "n_0 = np.vectorize(n_0)\n",
    "def n_2(a):\n",
    "    return 2*integrate.quad(lambda x: np.exp(-x**2)*x**2/((np.exp(-x**2)+np.exp(-a))), 0, np.inf)[0]\n",
    "n_2 = np.vectorize(n_2)\n",
    "def Cauchy(z,a):\n",
    "    s=integrate.quad(lambda x: np.exp(-x**2)*(x-z.real)/((np.exp(-x**2)+np.exp(-a))*((x-z.real)**2+z.imag**2)), -np.inf, np.inf)[0]\n",
    "    s=s+1j*z.imag*integrate.quad(lambda x: np.exp(-x**2)/((np.exp(-x**2)+np.exp(-a))*((x-z.real)**2+z.imag**2)), -np.inf,  np.inf)[0]\n",
    "    return s/n_0(a)\n",
    "\n",
    "\n",
    "I = np.vectorize(Cauchy)\n",
    "\n",
    "def lambda_z(w, v, z, a):\n",
    "    B=n_0(a)/(n_2(a)*v**2)\n",
    "    A=1-1j*w/v\n",
    "    return (1-(B*z**2)/A**2-z*B*(z**2-A/B)*I(z, a)/A**2)\n"
   ]
  },
  {
   "cell_type": "code",
   "execution_count": 5,
   "metadata": {},
   "outputs": [],
   "source": [
    "def Cauchy1(z,a):\n",
    "    eps=1e-10\n",
    "    s=integrate.quad(lambda x: np.exp(-x**2)/((x-z)*(np.exp(-x**2)+np.exp(-a))), -np.inf, z.real-eps)[0]\n",
    "    s=s+integrate.quad(lambda x: np.exp(-x**2)/((x-z)*(np.exp(-x**2)+np.exp(-a))), z.real+eps,  np.inf)[0]\n",
    "    return s/n_0(a)\n",
    "def I1(z,a):\n",
    "    if -15<=z<=15:\n",
    "        s=Cauchy1(z,a)\n",
    "    else:\n",
    "        s=-1/z\n",
    "    return s\n",
    "I1 =np.vectorize(I1)\n",
    "def lambda_z_plus(w, v, z, a):\n",
    "    B=n_0(a)/(n_2(a)*v**2)\n",
    "    A=1-1j*w/v\n",
    "    return (1-(B*z**2)/A**2-z*B*(z**2-A/B)*I1(z,a)/A**2)-np.pi*1j*z*B*(z**2-A/B)*(np.exp(-z**2)/(np.exp(-z**2)+np.exp(-a)))/(n_0(a)*A**2)\n",
    "def lambda_z_minus(w, v, z,a):\n",
    "    B=n_0(a)/(n_2(a)*v**2)\n",
    "    A=1-1j*w/v\n",
    "    return (1-(B*z**2)/A**2-z*B*(z**2-A/B)*I1(z,a)/A**2)+np.pi*1j*z*B*(z**2-A/B)*(np.exp(-z**2)/(np.exp(-z**2)+np.exp(-a)))/(n_0(a)*A**2)\n",
    "lambda_z_minus=np.vectorize(lambda_z_minus)\n",
    "lambda_z_plus=np.vectorize(lambda_z_plus)"
   ]
  },
  {
   "cell_type": "code",
   "execution_count": 6,
   "metadata": {},
   "outputs": [
    {
     "data": {
      "text/plain": [
       "[<matplotlib.lines.Line2D at 0x1fce60591e0>]"
      ]
     },
     "execution_count": 6,
     "metadata": {},
     "output_type": "execute_result"
    },
    {
     "data": {
      "image/png": "[encoded data removed]",
      "text/plain": [
       "<Figure size 640x480 with 1 Axes>"
      ]
     },
     "metadata": {},
     "output_type": "display_data"
    }
   ],
   "source": [
    "w=0.5\n",
    "v=0.001\n",
    "def y(w,v,t,a):\n",
    "    return cmath.log((((t+1j)/(t-1j))**2)*lambda_z_plus(w, v, t, a)/lambda_z_minus(w, v, t,a)).imag\n",
    "y=np.vectorize(y)\n",
    "x=np.linspace(-15, 15,  200)\n",
    "plt.plot(x,y(w,v,x,2))"
   ]
  },
  {
   "cell_type": "code",
   "execution_count": 7,
   "metadata": {},
   "outputs": [],
   "source": [
    "def Gamma(w, v, z, a):\n",
    "    s=1j*integrate.quad(lambda x: (x-z.real)*y(w,v,x,a)/((x-z.real)**2+z.imag**2), -np.inf, np.inf)[0]\n",
    "    s=s-z.imag*integrate.quad(lambda x: y(w,v,x,a)/((x-z.real)**2+z.imag**2), -np.inf, np.inf)[0]\n",
    "    return s/(2*np.pi*1j)\n",
    "gamma=np.vectorize(Gamma)\n",
    "#gamma(0.5, 0.001, 1j, 1)"
   ]
  },
  {
   "cell_type": "code",
   "execution_count": 12,
   "metadata": {},
   "outputs": [],
   "source": [
    "def root(w, v, z, a):\n",
    "    B=n_0(a)/(n_2(a)*v**2)\n",
    "    A=1-1j*w/v\n",
    "    lambda_inf=1-1/A+1/(A*v)**2\n",
    "    #print(lambda_inf)\n",
    "    return cmath.sqrt(z**2-(lambda_z(w,v,z,a)*(z+1j)**2)/(cmath.exp(gamma(w,v,z,a))*lambda_inf))\n",
    "root=np.vectorize(root)\n"
   ]
  },
  {
   "cell_type": "code",
   "execution_count": 16,
   "metadata": {},
   "outputs": [],
   "source": [
    "q=root(0.5, 0.001, 1j, 1)"
   ]
  },
  {
   "cell_type": "code",
   "execution_count": 18,
   "metadata": {},
   "outputs": [
    {
     "data": {
      "text/plain": [
       "(-9.353112802035213e-07-9.908770156222442e-05j)"
      ]
     },
     "execution_count": 18,
     "metadata": {},
     "output_type": "execute_result"
    }
   ],
   "source": [
    "lambda_z(0.5, 0.001, 0.00150365-0.64142307j ,1)"
   ]
  },
  {
   "cell_type": "code",
   "execution_count": 17,
   "metadata": {},
   "outputs": [
    {
     "data": {
      "text/plain": [
       "(-9.297109007100346e-07-9.908962590145058e-05j)"
      ]
     },
     "execution_count": 17,
     "metadata": {},
     "output_type": "execute_result"
    }
   ],
   "source": [
    "lambda_z(0.5, 0.001, q ,1)"
   ]
  },
  {
   "cell_type": "code",
   "execution_count": null,
   "metadata": {},
   "outputs": [],
   "source": []
  },
  {
   "cell_type": "code",
   "execution_count": null,
   "metadata": {},
   "outputs": [],
   "source": []
  },
  {
   "cell_type": "code",
   "execution_count": null,
   "metadata": {},
   "outputs": [],
   "source": []
  },
  {
   "cell_type": "code",
   "execution_count": null,
   "metadata": {},
   "outputs": [],
   "source": []
  },
  {
   "cell_type": "code",
   "execution_count": null,
   "metadata": {},
   "outputs": [],
   "source": []
  },
  {
   "cell_type": "code",
   "execution_count": null,
   "metadata": {},
   "outputs": [],
   "source": []
  },
  {
   "cell_type": "code",
   "execution_count": null,
   "metadata": {},
   "outputs": [],
   "source": []
  },
  {
   "cell_type": "code",
   "execution_count": null,
   "metadata": {},
   "outputs": [],
   "source": []
  },
  {
   "cell_type": "code",
   "execution_count": null,
   "metadata": {},
   "outputs": [],
   "source": []
  }
 ],
 "metadata": {
  "kernelspec": {
   "display_name": "base",
   "language": "python",
   "name": "python3"
  },
  "language_info": {
   "codemirror_mode": {
    "name": "ipython",
    "version": 3
   },
   "file_extension": ".py",
   "mimetype": "text/x-python",
   "name": "python",
   "nbconvert_exporter": "python",
   "pygments_lexer": "ipython3",
   "version": "3.10.9"
  }
 },
 "nbformat": 4,
 "nbformat_minor": 2
}
