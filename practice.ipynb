{
 "cells": [
  {
   "cell_type": "code",
   "execution_count": 99,
   "metadata": {},
   "outputs": [],
   "source": [
    "import numpy as np\n",
    "import math"
   ]
  },
  {
   "cell_type": "markdown",
   "metadata": {},
   "source": [
    "***Первая точка***"
   ]
  },
  {
   "cell_type": "code",
   "execution_count": 83,
   "metadata": {},
   "outputs": [],
   "source": [
    "x =np.sqrt(np.pi)\n",
    "coefficient = 1/x\n",
    "sum = 0\n",
    "ordered_sum = 0\n",
    "n = 0\n",
    "value =-1/x\n",
    "coefficients=[]"
   ]
  },
  {
   "cell_type": "code",
   "execution_count": 84,
   "metadata": {},
   "outputs": [
    {
     "data": {
      "text/plain": [
       "[0.5641895835477563,\n",
       " -2.784163998415853,\n",
       " 2.2898831043433034,\n",
       " -0.7533413454868941,\n",
       " 0.13277109033821477,\n",
       " -0.014559979305994189,\n",
       " 0.001088645726047047,\n",
       " -5.903572884077501e-05,\n",
       " 2.4277470382851285e-06,\n",
       " -7.830360409735475e-08,\n",
       " 2.0337515674221343e-09,\n",
       " -4.344658749037202e-11]"
      ]
     },
     "execution_count": 84,
     "metadata": {},
     "output_type": "execute_result"
    }
   ],
   "source": [
    "while abs(coefficient)>=1e-12:\n",
    "    coefficients.append(coefficient)\n",
    "    coefficient*=-x**4/((2*n+2)*(2*n+1))\n",
    "    n+=1\n",
    "coefficients"
   ]
  },
  {
   "cell_type": "code",
   "execution_count": 86,
   "metadata": {},
   "outputs": [
    {
     "name": "stdout",
     "output_type": "stream",
     "text": [
      "-0.564189583548521444988921302865492179990\n",
      "-0.564189583547756279280349644977832213044\n",
      "-7.65165708571657887659966945648193359375e-13\n"
     ]
    }
   ],
   "source": [
    "for i in range(n):\n",
    "    sum+=coefficients[i]\n",
    "print('{:.39f}'.format(sum))\n",
    "print('{:.39f}'.format(value))\n",
    "print('{:.39}'.format(sum-value))"
   ]
  },
  {
   "cell_type": "code",
   "execution_count": 87,
   "metadata": {},
   "outputs": [
    {
     "name": "stdout",
     "output_type": "stream",
     "text": [
      "-0.564189583548521556011223765381146222353\n",
      "-0.564189583547756279280349644977832213044\n",
      "-7.65276730874120403314009308815002441406e-13\n"
     ]
    }
   ],
   "source": [
    "kahan_sum = 0\n",
    "c = 0\n",
    "for i in range(n):\n",
    "\ty = coefficients[i] - c\n",
    "\tt = kahan_sum + y\n",
    "\tz = t - kahan_sum\n",
    "\tc = z - y\n",
    "\tkahan_sum = t\n",
    "print('{:.39f}'.format(kahan_sum))\n",
    "print('{:.39f}'.format(value))\n",
    "print('{:.39}'.format(kahan_sum-value))"
   ]
  },
  {
   "cell_type": "code",
   "execution_count": 91,
   "metadata": {},
   "outputs": [
    {
     "data": {
      "text/plain": [
       "[-2.784163998415853,\n",
       " -0.7533413454868941,\n",
       " -0.014559979305994189,\n",
       " -5.903572884077501e-05,\n",
       " -7.830360409735475e-08,\n",
       " -4.344658749037202e-11,\n",
       " 2.0337515674221343e-09,\n",
       " 2.4277470382851285e-06,\n",
       " 0.001088645726047047,\n",
       " 0.13277109033821477,\n",
       " 0.5641895835477563,\n",
       " 2.2898831043433034]"
      ]
     },
     "execution_count": 91,
     "metadata": {},
     "output_type": "execute_result"
    }
   ],
   "source": [
    "for i in range(n-1):\n",
    "    for j in range(n-i-1):\n",
    "        if coefficients[j]>coefficients[j+1]:\n",
    "            coefficients[j], coefficients[j+1]=coefficients[j+1], coefficients[j]\n",
    "coefficients\n"
   ]
  },
  {
   "cell_type": "code",
   "execution_count": 92,
   "metadata": {},
   "outputs": [
    {
     "name": "stdout",
     "output_type": "stream",
     "text": [
      "-0.564189583548521778055828690412454307079\n",
      "-0.564189583547756279280349644977832213044\n",
      "-7.65498775479045434622094035148620605469e-13\n"
     ]
    }
   ],
   "source": [
    "for i in range(n):\n",
    "    ordered_sum+=coefficients[i]\n",
    "print('{:.39f}'.format(ordered_sum))\n",
    "print('{:.39f}'.format(value))\n",
    "print('{:.39}'.format(ordered_sum-value))"
   ]
  },
  {
   "cell_type": "code",
   "execution_count": 98,
   "metadata": {},
   "outputs": [
    {
     "name": "stdout",
     "output_type": "stream",
     "text": [
      "\n",
      "x=1.7724538509055159,   n=12\n",
      "истинное значение:       -0.56418958354775627928034964497783221304416656494141 \n",
      "наивное:  -0.56418958354852144498892130286549217998981475830078, погрешность - -0.00000000000076516570857165788765996694564819335938\n",
      "по возрастанию:   -0.56418958354852177805582869041245430707931518554688, погрешность - -0.00000000000076549877547904543462209403514862060547\n",
      "по Кэхену: -0.56418958354852155601122376538114622235298156738281, погрешность - -0.00000000000076527673087412040331400930881500244141\n",
      "\n"
     ]
    }
   ],
   "source": [
    "print(f'''\n",
    "x={x},   n={n}\n",
    "истинное значение:       {value:.50f} \n",
    "наивное:  {sum:.50f}, погрешность - {(sum-value):.50f}\n",
    "по возрастанию:   {ordered_sum:.50f}, погрешность - {(ordered_sum-value):.50f}\n",
    "по Кэхену: {kahan_sum:.50f}, погрешность - {(kahan_sum-value):.50f}\n",
    "''')"
   ]
  },
  {
   "cell_type": "markdown",
   "metadata": {},
   "source": [
    "***Вторая точка***"
   ]
  },
  {
   "cell_type": "code",
   "execution_count": 117,
   "metadata": {},
   "outputs": [],
   "source": [
    "x =3*np.sqrt(np.pi)\n",
    "coefficient = 1/x\n",
    "sum = 0\n",
    "ordered_sum = 0\n",
    "n = 0\n",
    "value =-1/x\n",
    "coefficients=[]"
   ]
  },
  {
   "cell_type": "code",
   "execution_count": 118,
   "metadata": {},
   "outputs": [
    {
     "data": {
      "text/plain": [
       "[0.18806319451591877,\n",
       " -75.17242795722805,\n",
       " 5007.9743491988065,\n",
       " -133452.15932896693,\n",
       " 1905120.027551644,\n",
       " -16922502.907674465,\n",
       " 102488569.26649651,\n",
       " -450182705.372589,\n",
       " 1499554758.455871,\n",
       " -3917650299.8110294,\n",
       " 8241890394.517007,\n",
       " -14261645053.230982,\n",
       " 20654529669.412254,\n",
       " -25403099986.370174,\n",
       " 26862701510.01344,\n",
       " -24683980690.71109,\n",
       " 19892450686.872177,\n",
       " -14173600825.896736,\n",
       " 8992789270.107054,\n",
       " -5113212714.95287,\n",
       " 2620318156.366409,\n",
       " -1216481877.0468,\n",
       " 514007286.41187614,\n",
       " -198510596.45853853,\n",
       " 70344373.03815395,\n",
       " -22953453.809007384,\n",
       " 6919254.226025651,\n",
       " -1932744.3951350632,\n",
       " 501658.840798984,\n",
       " -121308.26332202,\n",
       " 27395.03676138213,\n",
       " -5790.754152945396,\n",
       " 1148.1519510308642,\n",
       " -213.95716770864746,\n",
       " 37.542906261855215,\n",
       " -6.213918066792341,\n",
       " 0.9717609470073966,\n",
       " -0.14381017876169344,\n",
       " 0.02016970446165902,\n",
       " -0.002684719833133597,\n",
       " 0.0003395991989151529,\n",
       " -4.0874509124626994e-05,\n",
       " 4.6868379298697135e-06,\n",
       " -5.125630830433115e-07,\n",
       " 5.352173245551933e-08,\n",
       " -5.341735882890209e-09,\n",
       " 5.100796008501723e-10,\n",
       " -4.6645732526881474e-11,\n",
       " 4.0888562598889316e-12]"
      ]
     },
     "execution_count": 118,
     "metadata": {},
     "output_type": "execute_result"
    }
   ],
   "source": [
    "while abs(coefficient)>=1e-12:\n",
    "    coefficients.append(coefficient)\n",
    "    coefficient*=-x**4/((2*n+2)*(2*n+1))\n",
    "    n+=1\n",
    "coefficients"
   ]
  },
  {
   "cell_type": "code",
   "execution_count": 119,
   "metadata": {},
   "outputs": [
    {
     "name": "stdout",
     "output_type": "stream",
     "text": [
      "-0.188060609915037701966866734437644481659\n",
      "-0.188063194515918769011975086868915241212\n",
      "2.58460088106704510835243127075955271721e-06\n"
     ]
    }
   ],
   "source": [
    "for i in range(n):\n",
    "    sum+=coefficients[i]\n",
    "print('{:.39f}'.format(sum))\n",
    "print('{:.39f}'.format(value))\n",
    "print('{:.39}'.format(sum-value))"
   ]
  },
  {
   "cell_type": "code",
   "execution_count": 120,
   "metadata": {},
   "outputs": [
    {
     "name": "stdout",
     "output_type": "stream",
     "text": [
      "-0.188060609915037729722442350066557992250\n",
      "-0.188063194515918769011975086868915241212\n",
      "2.58460088103928953273680235724896192551e-06\n"
     ]
    }
   ],
   "source": [
    "kahan_sum = 0\n",
    "c = 0\n",
    "for i in range(n):\n",
    "\ty = coefficients[i] - c\n",
    "\tt = kahan_sum + y\n",
    "\tz = t - kahan_sum\n",
    "\tc = z - y\n",
    "\tkahan_sum = t\n",
    "print('{:.39f}'.format(kahan_sum))\n",
    "print('{:.39f}'.format(value))\n",
    "print('{:.39}'.format(kahan_sum-value))"
   ]
  },
  {
   "cell_type": "code",
   "execution_count": 121,
   "metadata": {},
   "outputs": [],
   "source": [
    "for i in range(n-1):\n",
    "    for j in range(n-i-1):\n",
    "        if coefficients[j]>coefficients[j+1]:\n",
    "            coefficients[j], coefficients[j+1]=coefficients[j+1], coefficients[j]"
   ]
  },
  {
   "cell_type": "code",
   "execution_count": 122,
   "metadata": {},
   "outputs": [
    {
     "name": "stdout",
     "output_type": "stream",
     "text": [
      "-0.188060760498046875000000000000000000000\n",
      "-0.188063194515918769011975086868915241212\n",
      "2.43401787189401197508686891524121165276e-06\n"
     ]
    }
   ],
   "source": [
    "for i in range(n):\n",
    "    ordered_sum+=coefficients[i]\n",
    "print('{:.39f}'.format(ordered_sum))\n",
    "print('{:.39f}'.format(value))\n",
    "print('{:.39}'.format(ordered_sum-value))"
   ]
  },
  {
   "cell_type": "code",
   "execution_count": 123,
   "metadata": {},
   "outputs": [
    {
     "name": "stdout",
     "output_type": "stream",
     "text": [
      "\n",
      "x=5.317361552716548,   n=49\n",
      "истинное значение:       -0.18806319451591876901197508686891524121165275573730 \n",
      "наивное:  -0.18806060991503770196686673443764448165893554687500, погрешность - 0.00000258460088106704510835243127075955271720886230\n",
      "по возрастанию:   -0.18806076049804687500000000000000000000000000000000, погрешность - 0.00000243401787189401197508686891524121165275573730\n",
      "по Кэхену: -0.18806060991503772972244235006655799224972724914551, погрешность - 0.00000258460088103928953273680235724896192550659180\n",
      "\n"
     ]
    }
   ],
   "source": [
    "print(f'''\n",
    "x={x},   n={n}\n",
    "истинное значение:       {value:.50f} \n",
    "наивное:  {sum:.50f}, погрешность - {(sum-value):.50f}\n",
    "по возрастанию:   {ordered_sum:.50f}, погрешность - {(ordered_sum-value):.50f}\n",
    "по Кэхену: {kahan_sum:.50f}, погрешность - {(kahan_sum-value):.50f}\n",
    "''')"
   ]
  },
  {
   "cell_type": "code",
   "execution_count": null,
   "metadata": {},
   "outputs": [],
   "source": []
  },
  {
   "cell_type": "code",
   "execution_count": null,
   "metadata": {},
   "outputs": [],
   "source": []
  },
  {
   "cell_type": "code",
   "execution_count": null,
   "metadata": {},
   "outputs": [],
   "source": []
  },
  {
   "cell_type": "code",
   "execution_count": null,
   "metadata": {},
   "outputs": [],
   "source": []
  },
  {
   "cell_type": "code",
   "execution_count": null,
   "metadata": {},
   "outputs": [],
   "source": []
  },
  {
   "cell_type": "code",
   "execution_count": null,
   "metadata": {},
   "outputs": [],
   "source": []
  },
  {
   "cell_type": "code",
   "execution_count": null,
   "metadata": {},
   "outputs": [],
   "source": []
  },
  {
   "cell_type": "code",
   "execution_count": null,
   "metadata": {},
   "outputs": [],
   "source": []
  },
  {
   "cell_type": "code",
   "execution_count": null,
   "metadata": {},
   "outputs": [],
   "source": []
  },
  {
   "cell_type": "code",
   "execution_count": null,
   "metadata": {},
   "outputs": [],
   "source": []
  },
  {
   "cell_type": "code",
   "execution_count": null,
   "metadata": {},
   "outputs": [],
   "source": []
  },
  {
   "cell_type": "code",
   "execution_count": null,
   "metadata": {},
   "outputs": [],
   "source": []
  }
 ],
 "metadata": {
  "kernelspec": {
   "display_name": "base",
   "language": "python",
   "name": "python3"
  },
  "language_info": {
   "codemirror_mode": {
    "name": "ipython",
    "version": 3
   },
   "file_extension": ".py",
   "mimetype": "text/x-python",
   "name": "python",
   "nbconvert_exporter": "python",
   "pygments_lexer": "ipython3",
   "version": "3.10.9"
  }
 },
 "nbformat": 4,
 "nbformat_minor": 2
}
