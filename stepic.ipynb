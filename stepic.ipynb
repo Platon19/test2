{
 "cells": [
  {
   "cell_type": "code",
   "execution_count": 1,
   "metadata": {},
   "outputs": [
    {
     "name": "stdout",
     "output_type": "stream",
     "text": [
      "4 8 15 16 23 42\n"
     ]
    }
   ],
   "source": [
    "print('4', '8', '15', '16', '23', '42')"
   ]
  },
  {
   "cell_type": "code",
   "execution_count": 2,
   "metadata": {},
   "outputs": [
    {
     "name": "stdout",
     "output_type": "stream",
     "text": [
      "*\n",
      "*\n",
      "15\n",
      "16\n",
      "23\n",
      "42\n"
     ]
    }
   ],
   "source": [
    "print('*')\n",
    "print('*')\n",
    "print('15')\n",
    "print('16')\n",
    "print('23')\n",
    "print('42')"
   ]
  },
  {
   "cell_type": "code",
   "execution_count": 3,
   "metadata": {},
   "outputs": [
    {
     "name": "stdout",
     "output_type": "stream",
     "text": [
      "\n",
      "\n",
      "\n"
     ]
    }
   ],
   "source": [
    "str1=input()\n",
    "str2=input()\n",
    "str3=input()\n",
    "print(str3)\n",
    "print(str2)\n",
    "print(str1)\n",
    "\n"
   ]
  },
  {
   "cell_type": "code",
   "execution_count": 4,
   "metadata": {},
   "outputs": [
    {
     "name": "stdout",
     "output_type": "stream",
     "text": [
      "I***like***Python\n"
     ]
    }
   ],
   "source": [
    "print('I', 'like', 'Python', sep='***')"
   ]
  },
  {
   "cell_type": "code",
   "execution_count": 5,
   "metadata": {},
   "outputs": [
    {
     "name": "stdout",
     "output_type": "stream",
     "text": [
      "\n"
     ]
    }
   ],
   "source": [
    "separator=input()\n",
    "str1=input()\n",
    "str2=input()\n",
    "str3=input()\n",
    "print(str1, str2, str3, sep=separator)\n",
    "\n",
    "\n",
    "\n"
   ]
  },
  {
   "cell_type": "code",
   "execution_count": 6,
   "metadata": {},
   "outputs": [
    {
     "name": "stdout",
     "output_type": "stream",
     "text": [
      "Привет, !"
     ]
    }
   ],
   "source": [
    "name=input()\n",
    "print('Привет,', name, end='!')"
   ]
  },
  {
   "cell_type": "code",
   "execution_count": 7,
   "metadata": {},
   "outputs": [
    {
     "ename": "ValueError",
     "evalue": "invalid literal for int() with base 10: ''",
     "output_type": "error",
     "traceback": [
      "\u001b[1;31m---------------------------------------------------------------------------\u001b[0m",
      "\u001b[1;31mValueError\u001b[0m                                Traceback (most recent call last)",
      "\u001b[1;32mc:\\Users\\tanya\\Documents\\test2\\stepic.ipynb Ячейка 7\u001b[0m line \u001b[0;36m1\n\u001b[1;32m----> <a href='vscode-notebook-cell:/c%3A/Users/tanya/Documents/test2/stepic.ipynb#W6sZmlsZQ%3D%3D?line=0'>1</a>\u001b[0m a\u001b[39m=\u001b[39m\u001b[39mint\u001b[39;49m(\u001b[39minput\u001b[39;49m())\n\u001b[0;32m      <a href='vscode-notebook-cell:/c%3A/Users/tanya/Documents/test2/stepic.ipynb#W6sZmlsZQ%3D%3D?line=1'>2</a>\u001b[0m \u001b[39mprint\u001b[39m(\u001b[39m'\u001b[39m\u001b[39mОбъем =\u001b[39m\u001b[39m'\u001b[39m, a\u001b[39m*\u001b[39m\u001b[39m*\u001b[39m\u001b[39m3\u001b[39m)\n\u001b[0;32m      <a href='vscode-notebook-cell:/c%3A/Users/tanya/Documents/test2/stepic.ipynb#W6sZmlsZQ%3D%3D?line=2'>3</a>\u001b[0m \u001b[39mprint\u001b[39m(\u001b[39m'\u001b[39m\u001b[39mПлощадь полной поверхности =\u001b[39m\u001b[39m'\u001b[39m, \u001b[39m6\u001b[39m\u001b[39m*\u001b[39ma\u001b[39m*\u001b[39m\u001b[39m*\u001b[39m\u001b[39m2\u001b[39m)\n",
      "\u001b[1;31mValueError\u001b[0m: invalid literal for int() with base 10: ''"
     ]
    }
   ],
   "source": [
    "a=int(input())\n",
    "print('Объем =', a**3)\n",
    "print('Площадь полной поверхности =', 6*a**2)\n"
   ]
  },
  {
   "cell_type": "code",
   "execution_count": null,
   "metadata": {},
   "outputs": [
    {
     "name": "stdout",
     "output_type": "stream",
     "text": [
      "113\n"
     ]
    }
   ],
   "source": [
    "a=int(input())\n",
    "b=int(input())\n",
    "print(3*(a+b)**3+257*b**2-127*a-41)"
   ]
  },
  {
   "cell_type": "code",
   "execution_count": null,
   "metadata": {},
   "outputs": [
    {
     "data": {
      "text/plain": [
       "113"
      ]
     },
     "execution_count": 23,
     "metadata": {},
     "output_type": "execute_result"
    }
   ],
   "source": [
    "24+257-127-41"
   ]
  },
  {
   "cell_type": "code",
   "execution_count": null,
   "metadata": {},
   "outputs": [
    {
     "name": "stdout",
     "output_type": "stream",
     "text": [
      "Следующее за числом 20 число: 21\n",
      "Для числа 20 предыдущее число: 19\n"
     ]
    }
   ],
   "source": [
    "a=int(input())\n",
    "print('Следующее за числом', a, 'число:', a+1)\n",
    "print('Для числа', a, 'предыдущее число:', a-1)"
   ]
  },
  {
   "cell_type": "code",
   "execution_count": null,
   "metadata": {},
   "outputs": [
    {
     "name": "stdout",
     "output_type": "stream",
     "text": [
      "Цифра в позиции тысяч равна 2\n"
     ]
    }
   ],
   "source": [
    "num=int(input())\n",
    "a = num % 10\n",
    "b = (num % 100) // 10\n",
    "c = (num // 100) % 10\n",
    "d=num//1000\n",
    "print('Цифра в позиции тысяч равна', d)\n",
    "print('Цифра в позиции сотен равна', c)\n",
    "print('Цифра в позиции десятков равна', b)\n",
    "print('Цифра в позиции единиц равна', a)"
   ]
  },
  {
   "cell_type": "code",
   "execution_count": null,
   "metadata": {},
   "outputs": [
    {
     "name": "stdout",
     "output_type": "stream",
     "text": [
      "*****************\n",
      "*               *\n",
      "*               *\n",
      "*               *\n",
      "*****************\n"
     ]
    }
   ],
   "source": [
    "print('*'*17)\n",
    "print('*', ' '*13, '*')\n",
    "print('*', ' '*13, '*')\n",
    "print('*', ' '*13, '*')\n",
    "print('*'*17)"
   ]
  },
  {
   "cell_type": "code",
   "execution_count": null,
   "metadata": {},
   "outputs": [
    {
     "ename": "ValueError",
     "evalue": "invalid literal for int() with base 10: ''",
     "output_type": "error",
     "traceback": [
      "\u001b[1;31m---------------------------------------------------------------------------\u001b[0m",
      "\u001b[1;31mValueError\u001b[0m                                Traceback (most recent call last)",
      "Cell \u001b[1;32mIn[1], line 1\u001b[0m\n\u001b[1;32m----> 1\u001b[0m a\u001b[39m=\u001b[39m\u001b[39mint\u001b[39;49m(\u001b[39minput\u001b[39;49m())\n\u001b[0;32m      2\u001b[0m b\u001b[39m=\u001b[39m\u001b[39mint\u001b[39m(\u001b[39minput\u001b[39m())\n\u001b[0;32m      3\u001b[0m \u001b[39mprint\u001b[39m(\u001b[39m'\u001b[39m\u001b[39mКвадрат суммы\u001b[39m\u001b[39m'\u001b[39m, a, \u001b[39m'\u001b[39m\u001b[39mи\u001b[39m\u001b[39m'\u001b[39m, b, \u001b[39m'\u001b[39m\u001b[39mравен\u001b[39m\u001b[39m'\u001b[39m, (a\u001b[39m+\u001b[39mb)\u001b[39m*\u001b[39m\u001b[39m*\u001b[39m\u001b[39m2\u001b[39m)\n",
      "\u001b[1;31mValueError\u001b[0m: invalid literal for int() with base 10: ''"
     ]
    }
   ],
   "source": [
    "a=int(input())\n",
    "b=int(input())\n",
    "print('Квадрат суммы', a, 'и', b, 'равен', (a+b)**2)\n",
    "print('Сумма квадратов', a, 'и', b, 'равна', a**2+b**2)"
   ]
  },
  {
   "cell_type": "code",
   "execution_count": null,
   "metadata": {},
   "outputs": [],
   "source": [
    "import math"
   ]
  },
  {
   "cell_type": "code",
   "execution_count": null,
   "metadata": {},
   "outputs": [],
   "source": [
    "def get_vector(x1,y1,x2,y2):\n",
    "    return [x2-x1, y2-y1]"
   ]
  },
  {
   "cell_type": "code",
   "execution_count": null,
   "metadata": {},
   "outputs": [],
   "source": [
    "def norma(a):\n",
    "    return a[0]**2+a[1]**2"
   ]
  },
  {
   "cell_type": "code",
   "execution_count": null,
   "metadata": {},
   "outputs": [],
   "source": [
    "def check(a,b,c):\n",
    "    if a==b+c or c==b+a or b==c+a or a==0 or b==0 or c==0:\n",
    "        return True\n",
    "    else:\n",
    "        return False"
   ]
  },
  {
   "cell_type": "code",
   "execution_count": null,
   "metadata": {},
   "outputs": [],
   "source": [
    "def area(x1, y1, x2, y2, x3, y3):\n",
    "    return 0.5*abs((x1-x2)*(y3-y2)-(x3-x2)*(y1-y2))"
   ]
  },
  {
   "cell_type": "code",
   "execution_count": null,
   "metadata": {},
   "outputs": [
    {
     "name": "stdout",
     "output_type": "stream",
     "text": [
      "периметр= 11.717301412217974\n",
      "площадь= 1.0\n"
     ]
    }
   ],
   "source": [
    "x1, y1=map(float, input('Введите координаты первой вершины').split())\n",
    "x2, y2=map(float, input('Введите координаты второй вершины').split())\n",
    "x3, y3=map(float, input('Введите координаты третьей вершины').split())\n",
    "a=norma(get_vector(x1,y1,x2,y2))\n",
    "b=norma(get_vector(x1,y1,x3,y3))\n",
    "c=norma(get_vector(x3,y3,x2,y2))\n",
    "if check(a,b,c):\n",
    "    print('треугольника не существует!')\n",
    "else:\n",
    "    p=math.sqrt((x1-x2)**2+(y1-y2)**2)+math.sqrt((x1-x3)**2+(y1-y3)**2)+math.sqrt((x3-x2)**2+(y3-y2)**2)\n",
    "    print('периметр=', p)\n",
    "    print('площадь=', area(x1, y1, x2, y2, x3, y3))"
   ]
  },
  {
   "cell_type": "markdown",
   "metadata": {},
   "source": [
    "for i in range(n)-->[0,n)\n",
    "range(n,m)--->(n,m)\n",
    "range(n,m,2)-->n  n+2 ..  m\n",
    "range(n,-1,-1)  n n-1... -1\n",
    "\n",
    "\n",
    "массив список\n",
    "a=[]\n",
    "a.append(5)  добавление в конец\n",
    "a.pop(i)   берёт i элемент по индексу возвращает его и удаляет из списка\n",
    "a.count(5) количество нужного элемнета списка\n",
    "a.index(5)   возвращает первый индекс исходного элемента если его нет то выдаст ошибку\n",
    "можно проверять наличие через каунт или через in \n",
    "if 5 in a:\n",
    "    d=index..\n",
    "\n",
    "\n",
    "a.insert(0,123) вставляет элемент по указанному индексу\n",
    "a.remove(5)  удаляет первое вхождение элемента 5\n",
    "\n",
    "a.sort(reverse=True) сортирует по убыванию\n",
    "a.sort()  просто сортирует по возрастанию\n",
    "a.copy() создаёт копию списка и возвращает её изменяются приизмениении 1 обе копии\n",
    "\n",
    "\n",
    "while условие:\n",
    "    тело\n",
    "\n",
    "\n",
    "\n",
    "\n",
    "\n"
   ]
  },
  {
   "cell_type": "code",
   "execution_count": null,
   "metadata": {},
   "outputs": [
    {
     "name": "stdout",
     "output_type": "stream",
     "text": [
      "[0]\n"
     ]
    }
   ],
   "source": [
    "a=[]\n",
    "while True:\n",
    "    b=int(input('введите элемент списка'))\n",
    "    if b!=666:\n",
    "        a.append(b)\n",
    "    else:\n",
    "        break\n",
    "print(a)\n"
   ]
  },
  {
   "cell_type": "markdown",
   "metadata": {},
   "source": []
  },
  {
   "cell_type": "code",
   "execution_count": null,
   "metadata": {},
   "outputs": [],
   "source": [
    "a=[]\n",
    "b=[1, 2, 3]\n"
   ]
  },
  {
   "cell_type": "code",
   "execution_count": 28,
   "metadata": {},
   "outputs": [],
   "source": [
    "def print_Matr(Matr, N, M):\n",
    "    for i in range(N):\n",
    "        for j in range(M):\n",
    "            print(\"%3d\" % Matr[i][j], end=' ')\n",
    "        print('\\n')"
   ]
  },
  {
   "cell_type": "code",
   "execution_count": null,
   "metadata": {},
   "outputs": [],
   "source": [
    "N, M=map(int, input().split)\n",
    "a=[]\n",
    "for i in range(N):\n",
    "    a.append([])\n",
    "    "
   ]
  },
  {
   "cell_type": "code",
   "execution_count": 15,
   "metadata": {},
   "outputs": [
    {
     "data": {
      "text/plain": [
       "[[1, 2, 3], [4, 5, 6], [7, 8, 9]]"
      ]
     },
     "execution_count": 15,
     "metadata": {},
     "output_type": "execute_result"
    }
   ],
   "source": [
    "N, M=map(int, input().split())\n",
    "a=[]\n",
    "for i in range(N):\n",
    "    a.append(list(map(int, input().split()))[:M])\n",
    "a"
   ]
  },
  {
   "cell_type": "code",
   "execution_count": 29,
   "metadata": {},
   "outputs": [
    {
     "name": "stdout",
     "output_type": "stream",
     "text": [
      "  1   2   3 \n",
      "\n",
      "  4   5   6 \n",
      "\n",
      "  7   8   9 \n",
      "\n"
     ]
    }
   ],
   "source": [
    "print_Matr(a, N, M )"
   ]
  },
  {
   "cell_type": "code",
   "execution_count": 16,
   "metadata": {},
   "outputs": [
    {
     "name": "stdout",
     "output_type": "stream",
     "text": [
      "1 5 9 "
     ]
    }
   ],
   "source": [
    "for i in range(N):\n",
    "    print(a[i][i], end=' ')"
   ]
  },
  {
   "cell_type": "code",
   "execution_count": 18,
   "metadata": {},
   "outputs": [
    {
     "name": "stdout",
     "output_type": "stream",
     "text": [
      "3 5 7 "
     ]
    }
   ],
   "source": [
    "for i in range(N):\n",
    "    print(a[i][N-i-1], end=' ')"
   ]
  },
  {
   "cell_type": "code",
   "execution_count": 19,
   "metadata": {},
   "outputs": [
    {
     "data": {
      "text/plain": [
       "[2]"
      ]
     },
     "execution_count": 19,
     "metadata": {},
     "output_type": "execute_result"
    }
   ],
   "source": [
    "b=[]\n",
    "for i in range(N//2):\n",
    "    for j in range(i+1, N-i-1):\n",
    "        b.append(a[i][j])\n",
    "b"
   ]
  },
  {
   "cell_type": "code",
   "execution_count": null,
   "metadata": {},
   "outputs": [],
   "source": []
  },
  {
   "cell_type": "code",
   "execution_count": null,
   "metadata": {},
   "outputs": [],
   "source": []
  },
  {
   "cell_type": "code",
   "execution_count": null,
   "metadata": {},
   "outputs": [],
   "source": []
  },
  {
   "cell_type": "code",
   "execution_count": null,
   "metadata": {},
   "outputs": [],
   "source": []
  },
  {
   "cell_type": "code",
   "execution_count": null,
   "metadata": {},
   "outputs": [],
   "source": []
  },
  {
   "cell_type": "code",
   "execution_count": null,
   "metadata": {},
   "outputs": [],
   "source": []
  }
 ],
 "metadata": {
  "kernelspec": {
   "display_name": "base",
   "language": "python",
   "name": "python3"
  },
  "language_info": {
   "codemirror_mode": {
    "name": "ipython",
    "version": 3
   },
   "file_extension": ".py",
   "mimetype": "text/x-python",
   "name": "python",
   "nbconvert_exporter": "python",
   "pygments_lexer": "ipython3",
   "version": "3.10.9"
  },
  "orig_nbformat": 4
 },
 "nbformat": 4,
 "nbformat_minor": 2
}
