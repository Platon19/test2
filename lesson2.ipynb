{
 "cells": [
  {
   "cell_type": "code",
   "execution_count": 1,
   "metadata": {},
   "outputs": [],
   "source": [
    "import random"
   ]
  },
  {
   "attachments": {},
   "cell_type": "markdown",
   "metadata": {},
   "source": [
    "***Задание 0***"
   ]
  },
  {
   "cell_type": "code",
   "execution_count": 2,
   "metadata": {},
   "outputs": [],
   "source": [
    "\n",
    "def vvod(n):\n",
    "    mas=[]\n",
    "    for i in range(n):\n",
    "        mas.append(random.randint(0, 10))\n",
    "    return mas\n"
   ]
  },
  {
   "cell_type": "code",
   "execution_count": 3,
   "metadata": {},
   "outputs": [
    {
     "data": {
      "text/plain": [
       "[2, 3, 3, 10, 7, 6, 6, 8, 9, 5]"
      ]
     },
     "execution_count": 3,
     "metadata": {},
     "output_type": "execute_result"
    }
   ],
   "source": [
    "mas=vvod(10)\n",
    "mas"
   ]
  },
  {
   "attachments": {},
   "cell_type": "markdown",
   "metadata": {},
   "source": [
    "***Задание 1***"
   ]
  },
  {
   "cell_type": "code",
   "execution_count": 4,
   "metadata": {},
   "outputs": [],
   "source": [
    "def find5(mas):\n",
    "    k=0\n",
    "    for x in mas:\n",
    "        if x<5:\n",
    "            k=k+1\n",
    "            print(x)\n",
    "    if k==0:\n",
    "        print('-1')\n",
    "        "
   ]
  },
  {
   "cell_type": "code",
   "execution_count": 5,
   "metadata": {},
   "outputs": [
    {
     "name": "stdout",
     "output_type": "stream",
     "text": [
      "2\n",
      "3\n",
      "3\n"
     ]
    }
   ],
   "source": [
    "find5(mas)"
   ]
  },
  {
   "attachments": {},
   "cell_type": "markdown",
   "metadata": {},
   "source": [
    "***Задание 2***"
   ]
  },
  {
   "cell_type": "code",
   "execution_count": 6,
   "metadata": {},
   "outputs": [],
   "source": [
    "list1=vvod(10)\n",
    "list2=vvod(10)"
   ]
  },
  {
   "cell_type": "code",
   "execution_count": 7,
   "metadata": {},
   "outputs": [
    {
     "name": "stdout",
     "output_type": "stream",
     "text": [
      "[10, 6, 0, 4, 3, 9, 8, 4, 5, 8]\n"
     ]
    },
    {
     "data": {
      "text/plain": [
       "[10, 8, 5, 7, 5, 9, 6, 3, 10, 4]"
      ]
     },
     "execution_count": 7,
     "metadata": {},
     "output_type": "execute_result"
    }
   ],
   "source": [
    "print(list1)\n",
    "list2"
   ]
  },
  {
   "cell_type": "code",
   "execution_count": 8,
   "metadata": {},
   "outputs": [],
   "source": [
    "def duplicates(mas,i):\n",
    "    for x in mas:\n",
    "        if x==i:\n",
    "            return 1"
   ]
  },
  {
   "cell_type": "code",
   "execution_count": 9,
   "metadata": {},
   "outputs": [],
   "source": [
    "def filtr(mas1,mas2):\n",
    "    s=[]\n",
    "    k=0\n",
    "    for i in mas1:\n",
    "       if duplicates(mas2,i) and not duplicates(s,i):\n",
    "            k=k+1\n",
    "            s.append(i)\n",
    "    if k==0:\n",
    "        return -1\n",
    "    else:\n",
    "        return s"
   ]
  },
  {
   "cell_type": "code",
   "execution_count": 10,
   "metadata": {},
   "outputs": [
    {
     "data": {
      "text/plain": [
       "[10, 6, 4, 3, 9, 8, 5]"
      ]
     },
     "execution_count": 10,
     "metadata": {},
     "output_type": "execute_result"
    }
   ],
   "source": [
    "filtr(list1,list2)"
   ]
  },
  {
   "attachments": {},
   "cell_type": "markdown",
   "metadata": {},
   "source": [
    "***Задание 3***"
   ]
  },
  {
   "cell_type": "code",
   "execution_count": 11,
   "metadata": {},
   "outputs": [],
   "source": [
    "def fact(n):\n",
    "    p=1\n",
    "    for i in range(n):\n",
    "        p=p*(i+1)\n",
    "    return p"
   ]
  },
  {
   "cell_type": "code",
   "execution_count": 12,
   "metadata": {},
   "outputs": [],
   "source": [
    "def c(n,k):\n",
    "    return fact(n)/(fact(k)*fact(n-k))"
   ]
  },
  {
   "cell_type": "code",
   "execution_count": 326,
   "metadata": {},
   "outputs": [],
   "source": [
    "def pascal(n):\n",
    "    mas=[]\n",
    "    for i in range(n):\n",
    "        list = []\n",
    "        for j in range(i+1):\n",
    "            list.append(str(int(c(i,j))))\n",
    "        mas.append(\" \".join(list))\n",
    "    for i in range(n):\n",
    "        print(\" \"*((len(mas[-1]) - len(mas[i]))//2),mas[i])"
   ]
  },
  {
   "cell_type": "code",
   "execution_count": 327,
   "metadata": {},
   "outputs": [
    {
     "name": "stdout",
     "output_type": "stream",
     "text": [
      "                                                                           1\n",
      "                                                                          1 1\n",
      "                                                                         1 2 1\n",
      "                                                                        1 3 3 1\n",
      "                                                                       1 4 6 4 1\n",
      "                                                                     1 5 10 10 5 1\n",
      "                                                                   1 6 15 20 15 6 1\n",
      "                                                                  1 7 21 35 35 21 7 1\n",
      "                                                                1 8 28 56 70 56 28 8 1\n",
      "                                                              1 9 36 84 126 126 84 36 9 1\n",
      "                                                          1 10 45 120 210 252 210 120 45 10 1\n",
      "                                                        1 11 55 165 330 462 462 330 165 55 11 1\n",
      "                                                      1 12 66 220 495 792 924 792 495 220 66 12 1\n",
      "                                                  1 13 78 286 715 1287 1716 1716 1287 715 286 78 13 1\n",
      "                                              1 14 91 364 1001 2002 3003 3432 3003 2002 1001 364 91 14 1\n",
      "                                           1 15 105 455 1365 3003 5005 6435 6435 5005 3003 1365 455 105 15 1\n",
      "                                       1 16 120 560 1820 4368 8008 11440 12870 11440 8008 4368 1820 560 120 16 1\n",
      "                                   1 17 136 680 2380 6188 12376 19448 24310 24310 19448 12376 6188 2380 680 136 17 1\n",
      "                                1 18 153 816 3060 8568 18564 31824 43758 48620 43758 31824 18564 8568 3060 816 153 18 1\n",
      "                            1 19 171 969 3876 11628 27132 50388 75582 92378 92378 75582 50388 27132 11628 3876 969 171 19 1\n",
      "                     1 20 190 1140 4845 15504 38760 77520 125970 167960 184756 167960 125970 77520 38760 15504 4845 1140 190 20 1\n",
      "                 1 21 210 1330 5985 20349 54264 116280 203490 293930 352716 352716 293930 203490 116280 54264 20349 5985 1330 210 21 1\n",
      "             1 22 231 1540 7315 26334 74613 170544 319770 497420 646646 705432 646646 497420 319770 170544 74613 26334 7315 1540 231 22 1\n",
      "       1 23 253 1771 8855 33649 100947 245157 490314 817190 1144066 1352078 1352078 1144066 817190 490314 245157 100947 33649 8855 1771 253 23 1\n",
      " 1 24 276 2024 10626 42504 134596 346104 735471 1307504 1961256 2496144 2704156 2496144 1961256 1307504 735471 346104 134596 42504 10626 2024 276 24 1\n"
     ]
    }
   ],
   "source": [
    "pascal(25)"
   ]
  },
  {
   "attachments": {},
   "cell_type": "markdown",
   "metadata": {},
   "source": [
    "***Задание 4***\n",
    "\n",
    "Напишите функцию, которая проверяет является ли строка палиндромом. \n",
    "Палиндром — это слово или фраза, которые одинаково читаются слева направо и справа налево"
   ]
  },
  {
   "cell_type": "code",
   "execution_count": 350,
   "metadata": {},
   "outputs": [],
   "source": [
    "def polindrom(str):\n",
    "    length=len(str)//2\n",
    "    if len(str)%2==0:\n",
    "        length1=length-1\n",
    "    else:\n",
    "        length1=length\n",
    "    if str[0:length]==str[-1:length1:-1]:\n",
    "        print('палиндром')\n",
    "    else:\n",
    "        print('не полиндром')"
   ]
  },
  {
   "cell_type": "code",
   "execution_count": 353,
   "metadata": {},
   "outputs": [
    {
     "name": "stdout",
     "output_type": "stream",
     "text": [
      "палиндром\n"
     ]
    }
   ],
   "source": [
    "line=input()\n",
    "polindrom(line)"
   ]
  },
  {
   "attachments": {},
   "cell_type": "markdown",
   "metadata": {},
   "source": [
    "***Задание 5***\n",
    "\n",
    "Напишите функцию, которая принимает целое число секунд и возращет значение в виде дни:часы:минуты:секунды."
   ]
  },
  {
   "cell_type": "code",
   "execution_count": 356,
   "metadata": {},
   "outputs": [],
   "source": [
    "def second(sec):\n",
    "    day=sec//86400\n",
    "    hour=(sec-day*86400)//3600\n",
    "    minits=(sec-day*86400-hour*3600)//60\n",
    "    second=sec-day*86400-hour*3600-minits*60\n",
    "    print(day,':',hour,':',minits,':',second)"
   ]
  },
  {
   "cell_type": "code",
   "execution_count": 362,
   "metadata": {},
   "outputs": [
    {
     "name": "stdout",
     "output_type": "stream",
     "text": [
      "0 : 0 : 0 : 21\n"
     ]
    }
   ],
   "source": [
    "time=input()\n",
    "second(int(time))"
   ]
  },
  {
   "cell_type": "code",
   "execution_count": 360,
   "metadata": {},
   "outputs": [
    {
     "data": {
      "text/plain": [
       "86400"
      ]
     },
     "execution_count": 360,
     "metadata": {},
     "output_type": "execute_result"
    }
   ],
   "source": [
    "\n"
   ]
  },
  {
   "cell_type": "code",
   "execution_count": null,
   "metadata": {},
   "outputs": [],
   "source": []
  },
  {
   "cell_type": "code",
   "execution_count": null,
   "metadata": {},
   "outputs": [],
   "source": []
  },
  {
   "cell_type": "code",
   "execution_count": null,
   "metadata": {},
   "outputs": [],
   "source": []
  },
  {
   "cell_type": "code",
   "execution_count": null,
   "metadata": {},
   "outputs": [],
   "source": []
  }
 ],
 "metadata": {
  "kernelspec": {
   "display_name": "base",
   "language": "python",
   "name": "python3"
  },
  "language_info": {
   "codemirror_mode": {
    "name": "ipython",
    "version": 3
   },
   "file_extension": ".py",
   "mimetype": "text/x-python",
   "name": "python",
   "nbconvert_exporter": "python",
   "pygments_lexer": "ipython3",
   "version": "3.10.9"
  },
  "orig_nbformat": 4
 },
 "nbformat": 4,
 "nbformat_minor": 2
}
