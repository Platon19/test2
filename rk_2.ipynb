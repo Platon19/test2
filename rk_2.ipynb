{
 "cells": [
  {
   "cell_type": "code",
   "execution_count": 47,
   "metadata": {},
   "outputs": [],
   "source": [
    "\n",
    "def poisk_max(matr, N, M):\n",
    "    max=matr[0][0]\n",
    "    for i in range(N):\n",
    "        for j in range(M):\n",
    "            if max<matr[i][j]:\n",
    "                max=matr[i][j]\n",
    "    return max\n",
    "\n",
    "def print_Matr(Matr, N, M):\n",
    "    for i in range(N):\n",
    "        for j in range(M):\n",
    "            print(\"%3s\" % Matr[i][j], end=' ')\n",
    "        print('\\n')"
   ]
  },
  {
   "cell_type": "code",
   "execution_count": 2,
   "metadata": {},
   "outputs": [
    {
     "name": "stdout",
     "output_type": "stream",
     "text": [
      "8\n"
     ]
    }
   ],
   "source": [
    "N, M=map(int, input().split())\n",
    "a=[]\n",
    "for i in range(N):\n",
    "    a.append(list(map(int, input().split()))[:M])\n",
    "print(poisk_max(a, N, M))"
   ]
  },
  {
   "cell_type": "code",
   "execution_count": 62,
   "metadata": {},
   "outputs": [
    {
     "name": "stdout",
     "output_type": "stream",
     "text": [
      "* . . * . . * \n",
      ". * . * . * . \n",
      ". . * * * . . \n",
      "* * * * * * * \n",
      ". . * * * . . \n",
      ". * . * . * . \n",
      "* . . * . . * \n"
     ]
    }
   ],
   "source": [
    "n=int(input())\n",
    "a=[]\n",
    "for i in range(n):\n",
    "    a.append(list('.'*n)[:n])\n",
    "for i in range(n):\n",
    "    a[i][n//2]='*'\n",
    "    a[n//2][i]='*'\n",
    "    a[i][i]='*'\n",
    "    a[i][n-i-1]='*'\n",
    "for i in range(n):\n",
    "    for j in range(n):\n",
    "        print(a[i][j], end=' ')\n",
    "    print()"
   ]
  },
  {
   "cell_type": "code",
   "execution_count": 52,
   "metadata": {},
   "outputs": [
    {
     "name": "stdout",
     "output_type": "stream",
     "text": [
      "[['*', ' ', '.', '*', '.', ' ', '*'], ['.', '*', '.', '*', '.', '*', '.'], ['.', ' ', '*', '*', '*', ' ', '.'], ['*', '*', '*', '*', '*', '*', '*'], ['.', ' ', '*', '*', '*', ' ', '.'], ['.', '*', '.', '*', '.', '*', '.'], ['*', ' ', '.', '*', '.', ' ', '*']]\n"
     ]
    }
   ],
   "source": [
    "print(a)"
   ]
  },
  {
   "cell_type": "code",
   "execution_count": 65,
   "metadata": {},
   "outputs": [],
   "source": [
    "def transposition(matr, N, M):\n",
    "    b=[]\n",
    "    for i in range(M):\n",
    "        b.append([])\n",
    "    for i in range(M):\n",
    "        k=0\n",
    "        for j in range(N):\n",
    "            b[i].append(matr[k][i])\n",
    "            k+=1\n",
    "    return b\n"
   ]
  },
  {
   "cell_type": "code",
   "execution_count": 66,
   "metadata": {},
   "outputs": [],
   "source": [
    "N, M=map(int, input().split())\n",
    "a=[]\n",
    "for i in range(N):\n",
    "    a.append(list(map(int, input().split()))[:M])\n",
    "a\n",
    "x, y=map(int, input().split())\n",
    "a=SwapColumns (a, x, y, N, M)\n",
    "        "
   ]
  },
  {
   "cell_type": "code",
   "execution_count": 12,
   "metadata": {},
   "outputs": [
    {
     "name": "stdout",
     "output_type": "stream",
     "text": [
      "0\n"
     ]
    },
    {
     "data": {
      "text/plain": [
       "0"
      ]
     },
     "execution_count": 12,
     "metadata": {},
     "output_type": "execute_result"
    }
   ],
   "source": [
    "s=input()\n",
    "letter=ord(s[0])-97\n",
    "digit=int(s[1])-1\n",
    "print(letter)\n",
    "digit"
   ]
  },
  {
   "cell_type": "code",
   "execution_count": 8,
   "metadata": {},
   "outputs": [
    {
     "data": {
      "text/plain": [
       "['b63']"
      ]
     },
     "execution_count": 8,
     "metadata": {},
     "output_type": "execute_result"
    }
   ],
   "source": [
    "ord('a')\n",
    "b='b63'\n",
    "b.split(maxsplit=len(b))"
   ]
  },
  {
   "cell_type": "code",
   "execution_count": 4,
   "metadata": {},
   "outputs": [
    {
     "data": {
      "text/plain": [
       "[0, 1, 2, 3, 4, 5, 0, 1, 2, 3, 4, 5]"
      ]
     },
     "execution_count": 4,
     "metadata": {},
     "output_type": "execute_result"
    }
   ],
   "source": [
    "a=[0,1,2,3,4,5]\n",
    "a+a"
   ]
  },
  {
   "cell_type": "code",
   "execution_count": 5,
   "metadata": {},
   "outputs": [],
   "source": [
    "def print_Matr(Matr, N, M):\n",
    "    for i in range(N):\n",
    "        for j in range(M):\n",
    "            print(\"%6d\"%(Matr[i][j]), end='')\n",
    "        print()"
   ]
  },
  {
   "cell_type": "code",
   "execution_count": 22,
   "metadata": {},
   "outputs": [
    {
     "name": "stdout",
     "output_type": "stream",
     "text": [
      "9\n"
     ]
    },
    {
     "data": {
      "text/plain": [
       "0"
      ]
     },
     "execution_count": 22,
     "metadata": {},
     "output_type": "execute_result"
    }
   ],
   "source": [
    "s=input()\n",
    "letter=(ord(s[0])-104-8)\n",
    "digit=(int(s[1])-2)%9\n",
    "print(letter)\n",
    "digit"
   ]
  },
  {
   "cell_type": "code",
   "execution_count": 24,
   "metadata": {},
   "outputs": [
    {
     "data": {
      "text/plain": [
       "104"
      ]
     },
     "execution_count": 24,
     "metadata": {},
     "output_type": "execute_result"
    }
   ],
   "source": [
    "ord(\"h\")"
   ]
  },
  {
   "cell_type": "code",
   "execution_count": 3,
   "metadata": {},
   "outputs": [],
   "source": [
    "import matplotlib.pyplot as plt\n",
    "import numpy as np\n",
    "import pandas as pd"
   ]
  },
  {
   "cell_type": "code",
   "execution_count": 8,
   "metadata": {},
   "outputs": [
    {
     "data": {
      "image/png": "[encoded data removed]",
      "text/plain": [
       "<Figure size 640x480 with 1 Axes>"
      ]
     },
     "metadata": {},
     "output_type": "display_data"
    }
   ],
   "source": [
    "n=int(input('введите количестово столбцов'))\n",
    "y=[]\n",
    "x=[]\n",
    "for i in range(n):\n",
    "    a=int(input())\n",
    "    y.append(a)\n",
    "    x.append(i+1)\n",
    "plt.bar(x,y, label='количество точек')\n",
    "plt.plot(x,y, color='red', label='график')\n",
    "plt.xlabel('x')\n",
    "plt.ylabel('y')\n",
    "plt.title('название')\n",
    "plt.legend(loc=2)\n",
    "plt.show()"
   ]
  },
  {
   "cell_type": "code",
   "execution_count": 2,
   "metadata": {},
   "outputs": [],
   "source": [
    "import numpy as np\n",
    "import random as rand\n",
    "import matplotlib.pyplot as plt"
   ]
  },
  {
   "cell_type": "code",
   "execution_count": 3,
   "metadata": {},
   "outputs": [],
   "source": [
    "def print_mas(mas,n):\n",
    "    for i in range(n):\n",
    "        print(mas[i], end=' ')"
   ]
  },
  {
   "cell_type": "code",
   "execution_count": 4,
   "metadata": {},
   "outputs": [
    {
     "name": "stdout",
     "output_type": "stream",
     "text": [
      "[0 1 2 3 4 5 6 7 8 9]\n"
     ]
    }
   ],
   "source": [
    "mas1=np.arange(0,10,1)\n",
    "mas2=np.arange(10,20,1)\n",
    "print(mas1)"
   ]
  },
  {
   "cell_type": "code",
   "execution_count": 5,
   "metadata": {},
   "outputs": [
    {
     "name": "stdout",
     "output_type": "stream",
     "text": [
      "[10 12 14 16 18 20 22 24 26 28]\n"
     ]
    }
   ],
   "source": [
    "mas3=mas1+mas2\n",
    "print(mas3)"
   ]
  },
  {
   "cell_type": "code",
   "execution_count": 39,
   "metadata": {},
   "outputs": [
    {
     "name": "stdout",
     "output_type": "stream",
     "text": [
      "[ 0  2  4  6  8 10 12 14 16 18]\n"
     ]
    }
   ],
   "source": [
    "K=int(input('введите число K'))\n",
    "mas1=K*mas1\n",
    "print(mas1)"
   ]
  },
  {
   "cell_type": "code",
   "execution_count": 40,
   "metadata": {},
   "outputs": [
    {
     "name": "stdout",
     "output_type": "stream",
     "text": [
      "[5.  5.5 6.  6.5 7.  7.5 8.  8.5 9.  9.5]\n"
     ]
    }
   ],
   "source": [
    "T=int(input('введите число T'))\n",
    "mas2=mas2/T\n",
    "print(mas2)"
   ]
  },
  {
   "cell_type": "code",
   "execution_count": 6,
   "metadata": {},
   "outputs": [],
   "source": [
    "np.set_printoptions(precision=3)"
   ]
  },
  {
   "cell_type": "code",
   "execution_count": 64,
   "metadata": {},
   "outputs": [
    {
     "name": "stdout",
     "output_type": "stream",
     "text": [
      "[[51.53  42.574 81.609 20.414 54.04 ]\n",
      " [73.004 82.463 61.668 63.531 88.523]\n",
      " [14.308 83.833 56.673 60.322 10.195]\n",
      " [24.362 26.158 19.5   30.779  3.216]\n",
      " [76.146 83.775 26.055 59.858 66.266]]\n"
     ]
    }
   ],
   "source": [
    "N=5\n",
    "matr=[]\n",
    "for i in range(N):\n",
    "    a=[rand.random()*100 for J in range(N)]\n",
    "    matr.append(a)\n",
    "matr1=np.array(matr)\n",
    "print(matr1)"
   ]
  },
  {
   "cell_type": "code",
   "execution_count": 65,
   "metadata": {},
   "outputs": [
    {
     "name": "stdout",
     "output_type": "stream",
     "text": [
      "[[71.108 21.309 59.992 50.591 95.947]\n",
      " [ 6.61  61.698 84.131 61.621  3.49 ]\n",
      " [96.468 82.917 26.44  34.758 80.366]\n",
      " [ 9.39   1.619  0.099  5.421 25.96 ]\n",
      " [22.075 25.763 71.351  5.637 17.215]]\n"
     ]
    }
   ],
   "source": [
    "matr=[]\n",
    "for i in range(N):\n",
    "    a=[rand.random()*100 for J in range(N)]\n",
    "    matr.append(a)\n",
    "matr2=np.array(matr)\n",
    "print(matr2)"
   ]
  },
  {
   "cell_type": "code",
   "execution_count": 66,
   "metadata": {},
   "outputs": [
    {
     "name": "stdout",
     "output_type": "stream",
     "text": [
      "[[ 19.579 -21.264 -21.618  30.177  41.907]\n",
      " [-66.394 -20.764  22.463  -1.91  -85.033]\n",
      " [ 82.16   -0.915 -30.233 -25.564  70.171]\n",
      " [-14.972 -24.539 -19.401 -25.358  22.744]\n",
      " [-54.071 -58.012  45.296 -54.22  -49.051]]\n"
     ]
    }
   ],
   "source": [
    "print(matr2-matr1)"
   ]
  },
  {
   "cell_type": "code",
   "execution_count": 67,
   "metadata": {},
   "outputs": [
    {
     "name": "stdout",
     "output_type": "stream",
     "text": [
      "[[122.638  63.883 141.601  71.005 149.987]\n",
      " [ 79.613 144.161 145.8   125.153  92.013]\n",
      " [110.776 166.75   83.112  95.08   90.562]\n",
      " [ 33.752  27.778  19.599  36.199  29.176]\n",
      " [ 98.221 109.537  97.406  65.495  83.481]]\n"
     ]
    }
   ],
   "source": [
    "print(matr1+matr2)"
   ]
  },
  {
   "cell_type": "code",
   "execution_count": 68,
   "metadata": {},
   "outputs": [
    {
     "name": "stdout",
     "output_type": "stream",
     "text": [
      "[[51.53  73.004 14.308 24.362 76.146]\n",
      " [42.574 82.463 83.833 26.158 83.775]\n",
      " [81.609 61.668 56.673 19.5   26.055]\n",
      " [20.414 63.531 60.322 30.779 59.858]\n",
      " [54.04  88.523 10.195  3.216 66.266]]\n"
     ]
    }
   ],
   "source": [
    "print(matr1.transpose())"
   ]
  },
  {
   "cell_type": "code",
   "execution_count": 72,
   "metadata": {},
   "outputs": [
    {
     "name": "stdout",
     "output_type": "stream",
     "text": [
      "[[13577.608 10358.162 14495.83   7810.909 14683.463]\n",
      " [ 9649.461 11113.164  8066.831  7414.238  9270.632]\n",
      " [12058.75  11490.56  19199.968 11550.367 13955.93 ]\n",
      " [ 1311.989   985.826  2555.027   754.036  1502.25 ]\n",
      " [ 9056.011  8428.77   6607.102  5311.917  8384.852]]\n"
     ]
    }
   ],
   "source": [
    "K=int(input('введите К'))\n",
    "print(np.linalg.matrix_power(matr2, K))"
   ]
  },
  {
   "cell_type": "code",
   "execution_count": 18,
   "metadata": {},
   "outputs": [
    {
     "name": "stdout",
     "output_type": "stream",
     "text": [
      "[[85.579 71.291 27.896 55.912 23.484  4.585 41.81 ]\n",
      " [91.922 90.385 88.772 87.446 80.6   87.221 61.342]\n",
      " [27.8   75.815 34.861 89.66  56.389 11.047 36.904]\n",
      " [40.427 97.986 78.488 35.634 83.049 96.778 68.674]\n",
      " [11.853 64.486 50.135 98.06  23.141 46.453  9.522]]\n"
     ]
    }
   ],
   "source": [
    "N=5\n",
    "matr=[]\n",
    "for i in range(N):\n",
    "    a=[rand.random()*100 for j in range(7)]\n",
    "    matr.append(a)\n",
    "matr1=np.array(matr)\n",
    "print(matr1)\n"
   ]
  },
  {
   "cell_type": "code",
   "execution_count": 19,
   "metadata": {},
   "outputs": [],
   "source": [
    "f= open(\"output.txt\", 'w')\n",
    "for i in range(N):\n",
    "    for j in range(7):\n",
    "        f.write(str(matr1[i][j]) + \" \")\n",
    "    f.write(\"\\n\")\n"
   ]
  },
  {
   "cell_type": "code",
   "execution_count": 20,
   "metadata": {},
   "outputs": [],
   "source": [
    "x=[]\n",
    "y=[]\n",
    "for i in range(N):\n",
    "    x.append(matr1[i][0])\n",
    "for j in range(1,7):\n",
    "    y.append(matr1[0][j])\n",
    "x=np.array(x)\n",
    "y=np.array(y)"
   ]
  },
  {
   "cell_type": "code",
   "execution_count": 21,
   "metadata": {},
   "outputs": [
    {
     "name": "stderr",
     "output_type": "stream",
     "text": [
      "No artists with labels found to put in legend.  Note that artists whose label start with an underscore are ignored when legend() is called with no argument.\n"
     ]
    },
    {
     "data": {
      "image/png": "[encoded data removed]",
      "text/plain": [
       "<Figure size 640x480 with 1 Axes>"
      ]
     },
     "metadata": {},
     "output_type": "display_data"
    }
   ],
   "source": [
    "mas_x=[]\n",
    "mas_y=[]\n",
    "buf=[]\n",
    "buf2=[]\n",
    "for i in range(N):\n",
    "    y=[matr[i][j] for j in range(1,7)]\n",
    "    plt.scatter([x[i]]*6,y,color='red', s=10)\n",
    "    buf.append([x[i]]*6)\n",
    "    buf2.append(y)\n",
    "for i in range(N):\n",
    "    for j in range(6):\n",
    "        mas_x.append(buf[i][j])\n",
    "for i in range(N):\n",
    "    for j in range(6):\n",
    "        mas_y.append(buf2[i][j])\n",
    "z=np.polyfit(mas_x, mas_y,1)\n",
    "p=np.poly1d(z)\n",
    "plt.plot(mas_x, p(mas_x))\n",
    "plt.xlabel('x')\n",
    "plt.ylabel('y')\n",
    "plt.title('название')\n",
    "plt.legend(loc=2)\n",
    "plt.show()"
   ]
  },
  {
   "cell_type": "code",
   "execution_count": 33,
   "metadata": {},
   "outputs": [],
   "source": [
    "def rast(mas_x, mas_y, n):\n",
    "    z=np.polyfit(mas_x, mas_y,1)\n",
    "    p=np.poly1d(z)\n",
    "    ro=0\n",
    "    for i in range(n):\n",
    "        ro=ro+(abs(mas_y[i]-z[0]*mas_x[i]-z[1])/(1+z[0]**2)**(0.5))\n",
    "    return ro"
   ]
  },
  {
   "cell_type": "code",
   "execution_count": 36,
   "metadata": {},
   "outputs": [],
   "source": [
    "mas_x=[]\n",
    "mas_y=[]\n",
    "min_y=[]\n",
    "min=10000000\n",
    "for i in range(N):\n",
    "    mas_x.append(matr1[i][0])\n",
    "for a1 in range(1,7):\n",
    "        for a2 in range(1,7):\n",
    "            for a3 in range(1,7):\n",
    "                for a4 in range(1,7):\n",
    "                    for a5 in range(1,7):\n",
    "                        mas_y=[]\n",
    "                        mas_y.append(matr[0][a1])\n",
    "                        mas_y.append(matr[1][a2])\n",
    "                        mas_y.append(matr[2][a3])\n",
    "                        mas_y.append(matr[3][a4])\n",
    "                        mas_y.append(matr[4][a5])\n",
    "                        if rast(mas_x, mas_y, N)<min:\n",
    "                            min_y=mas_y.copy()\n",
    "                            min=rast(mas_x, mas_y, N)\n",
    "                    #     for a6 in range(1,7):\n",
    "                    #         for a7 in range(1,7):\n",
    "                    #             for a8 in range(1,7):\n",
    "                    #                 for a9 in range(1,7):\n",
    "                    #                     for a10 in range(1,7):\n",
    "                                            \n",
    "                                            # mas_y.append(matr[5][a6])\n",
    "                                            # mas_y.append(matr[6][a7])\n",
    "                                            # mas_y.append(matr[7][a8])\n",
    "                                            # mas_y.append(matr[8][a9])\n",
    "                                            # mas_y.append(matr[9][a10])"
   ]
  },
  {
   "cell_type": "code",
   "execution_count": 52,
   "metadata": {},
   "outputs": [
    {
     "data": {
      "image/png": "[encoded data removed]",
      "text/plain": [
       "<Figure size 640x480 with 1 Axes>"
      ]
     },
     "metadata": {},
     "output_type": "display_data"
    }
   ],
   "source": [
    "z=np.polyfit(mas_x, min_y,1)\n",
    "p=np.poly1d(z)\n",
    "for i in range(N):\n",
    "    y=[matr[i][j] for j in range(1,7)]\n",
    "    plt.scatter([x[i]]*6,y,color='coral', s=10)\n",
    "plt.scatter(mas_x, min_y, s=10, color='b')\n",
    "plt.plot(mas_x, p(mas_x), color='b', label=f'y={z[0]:0.3f}x+{z[1]:0.3f}')\n",
    "plt.xlabel('x')\n",
    "plt.ylabel('y')\n",
    "plt.title('название')\n",
    "plt.legend(loc=2)\n",
    "plt.show()"
   ]
  },
  {
   "cell_type": "code",
   "execution_count": 32,
   "metadata": {},
   "outputs": [
    {
     "data": {
      "text/plain": [
       "array([ 0.374, 24.393])"
      ]
     },
     "execution_count": 32,
     "metadata": {},
     "output_type": "execute_result"
    }
   ],
   "source": []
  },
  {
   "cell_type": "code",
   "execution_count": null,
   "metadata": {},
   "outputs": [],
   "source": []
  },
  {
   "cell_type": "code",
   "execution_count": null,
   "metadata": {},
   "outputs": [],
   "source": []
  },
  {
   "cell_type": "code",
   "execution_count": null,
   "metadata": {},
   "outputs": [],
   "source": []
  },
  {
   "cell_type": "code",
   "execution_count": null,
   "metadata": {},
   "outputs": [],
   "source": []
  },
  {
   "cell_type": "code",
   "execution_count": null,
   "metadata": {},
   "outputs": [],
   "source": []
  },
  {
   "cell_type": "code",
   "execution_count": null,
   "metadata": {},
   "outputs": [],
   "source": []
  },
  {
   "cell_type": "code",
   "execution_count": null,
   "metadata": {},
   "outputs": [],
   "source": []
  },
  {
   "cell_type": "code",
   "execution_count": null,
   "metadata": {},
   "outputs": [],
   "source": []
  },
  {
   "cell_type": "code",
   "execution_count": null,
   "metadata": {},
   "outputs": [],
   "source": []
  },
  {
   "cell_type": "code",
   "execution_count": null,
   "metadata": {},
   "outputs": [],
   "source": []
  },
  {
   "cell_type": "code",
   "execution_count": null,
   "metadata": {},
   "outputs": [],
   "source": []
  },
  {
   "cell_type": "code",
   "execution_count": null,
   "metadata": {},
   "outputs": [],
   "source": []
  },
  {
   "cell_type": "code",
   "execution_count": null,
   "metadata": {},
   "outputs": [],
   "source": []
  }
 ],
 "metadata": {
  "kernelspec": {
   "display_name": "base",
   "language": "python",
   "name": "python3"
  },
  "language_info": {
   "codemirror_mode": {
    "name": "ipython",
    "version": 3
   },
   "file_extension": ".py",
   "mimetype": "text/x-python",
   "name": "python",
   "nbconvert_exporter": "python",
   "pygments_lexer": "ipython3",
   "version": "3.10.9"
  }
 },
 "nbformat": 4,
 "nbformat_minor": 2
}
